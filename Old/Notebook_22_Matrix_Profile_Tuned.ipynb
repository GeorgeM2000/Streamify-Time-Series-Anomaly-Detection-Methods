{
 "cells": [
  {
   "cell_type": "markdown",
   "metadata": {},
   "source": [
    "# ***Matrix Profile*** (STUMP)\n",
    "\n",
    "In this notebook, the Matrix Profile is evaluated but after being tuned. \n",
    "For each time series, before evaluation, the algorithm's parameters are tuned using a (presumably) similar time series. For each time series selected/constructed for evaluation there was a similar one selected/constructed meant for tuning.\n",
    "\n",
    "The optimization criterion for the parameter selection is the AUC score.\n",
    "\n",
    "The implementation is the STUMP function of the stumpy module.\n",
    "\n",
    "## Imports"
   ]
  },
  {
   "cell_type": "code",
   "execution_count": 50,
   "metadata": {},
   "outputs": [],
   "source": [
    "import math\n",
    "import os\n",
    "import sys\n",
    "import json\n",
    "from time import time\n",
    "import time as timemod\n",
    "from collections import defaultdict\n",
    "\n",
    "import matplotlib.pyplot as plt\n",
    "import pandas as pd\n",
    "import numpy as np\n",
    "import pickle as pkl\n",
    "from tqdm import tqdm\n",
    "\n",
    "from sklearn.preprocessing import MinMaxScaler\n",
    "from pathlib import Path"
   ]
  },
  {
   "cell_type": "code",
   "execution_count": 4,
   "metadata": {},
   "outputs": [],
   "source": [
    "from TSB_UAD.models.distance import Fourier\n",
    "from TSB_UAD.models.feature import Window\n",
    "from TSB_UAD.utils.slidingWindows import find_length, plotFig, printResult\n",
    "\n",
    "from TSB_UAD.models.iforest import IForest"
   ]
  },
  {
   "cell_type": "markdown",
   "metadata": {},
   "source": [
    "## Data Pre-Processing"
   ]
  },
  {
   "cell_type": "code",
   "execution_count": 8,
   "metadata": {},
   "outputs": [],
   "source": [
    "# Load the data for the evaluation.\n",
    "all_data = []\n",
    "\n",
    "with open('dataset.pkl', 'rb') as f:\n",
    "    data = pkl.load(f)\n",
    "\n",
    "all_data.extend(data['evaluation']['single_normality'])\n",
    "all_data.extend(data['evaluation']['double_normality'])\n",
    "all_data.extend(data['evaluation']['triple_normality'])\n",
    "all_data.extend(data['evaluation']['quadruple_normality'])\n",
    "name_to_eval_series = {ts['Name']:ts for ts in all_data}\n",
    "\n",
    "tuning_data = []\n",
    "tuning_data.extend(data['tuning']['single_normality'])\n",
    "tuning_data.extend(data['tuning']['double_normality'])\n",
    "tuning_data.extend(data['tuning']['triple_normality'])\n",
    "tuning_data.extend(data['tuning']['quadruple_normality'])\n",
    "name_to_tune_series = {ts['Name']:ts for ts in tuning_data}"
   ]
  },
  {
   "cell_type": "code",
   "execution_count": 1,
   "metadata": {},
   "outputs": [],
   "source": [
    "def preprocess_ts(timeseries, windows_per_batch=150):  \n",
    "    # === Pre-processing steps ===\n",
    "\n",
    "    # Prepare data for unsupervised method\n",
    "    name = timeseries['Name']\n",
    "\n",
    "    data = timeseries['data']\n",
    "    max_length = data.shape[0]\n",
    "    label = timeseries['labels']\n",
    "\n",
    "    slidingWindow = find_length(data)\n",
    "    X_data = Window(window=slidingWindow).convert(data).to_numpy()\n",
    "\n",
    "    # Take the series and batch it.\n",
    "    batched_data = []\n",
    "\n",
    "    i = 0\n",
    "    flag = True\n",
    "    # Keep taking batches until the point at which no new windows can be taken.\n",
    "    while i < len(data) and flag:\n",
    "        # The data batches begin at the index indicated. If first batch, then the beginning of the time series.\n",
    "        batch_samples_begin = i\n",
    "\n",
    "        # The data batches end at the index where `windows_per_batch` can be *completely* extracted since the batch beginning. \n",
    "        # Formula: \n",
    "        #   i: current beginning of batch / offset\n",
    "        #   + slidingWindow: to have enough samples extract one window\n",
    "        #   + windows_per_batch: to have enough samples to extract the rest of the windows\n",
    "        #   - 1: because the first window extracted is counted twice\n",
    "        batch_samples_end = i + windows_per_batch + slidingWindow - 1\n",
    "        \n",
    "        # Guard against the ending of the time series where a full batch cannot be formed.\n",
    "        if batch_samples_end > len(data):\n",
    "            batch_samples_end = len(data)\n",
    "            flag = False\n",
    " \n",
    "        # Guard against case where the batch cannot hold even one window.\n",
    "        if len(data[batch_samples_begin:batch_samples_end]) < slidingWindow:\n",
    "            break\n",
    "\n",
    "        batched_data.append(data[batch_samples_begin:batch_samples_end])\n",
    "\n",
    "        # The next batch starts at the point where a new window be created after the last window of the last batch.\n",
    "        # So, end of the previous window - length of window = start of the last window.\n",
    "        #   start of the last window + 1 = start of the first window of the next batch.\n",
    "        i = batch_samples_end - slidingWindow + 1\n",
    "\n",
    "    # Take the windows and batch them.\n",
    "    batched_X_data = []\n",
    "    i = 0\n",
    "    while i < len(X_data):\n",
    "        begin = i\n",
    "        end = i + windows_per_batch\n",
    "        if end > len(X_data):\n",
    "            end = len(X_data)\n",
    "\n",
    "        batched_X_data.append(X_data[begin:end])\n",
    "        i += windows_per_batch\n",
    "\n",
    "    print(f'Time-Series name: {name}')\n",
    "    print(\"Estimated Subsequence length: \", slidingWindow)\n",
    "    print()\n",
    "    \n",
    "    # Store the pre-processed variables in the new dictionary\n",
    "    return {\n",
    "        'name': name,\n",
    "        'data': data,\n",
    "        'label': label,\n",
    "        'slidingWindow': slidingWindow,\n",
    "        'X_data': X_data,\n",
    "        'batched_X_data': batched_X_data,\n",
    "        'batched_data': batched_data,\n",
    "        'Time series length': len(data),\n",
    "        'Number of abnormal points': list(label).count(1)\n",
    "    }"
   ]
  },
  {
   "cell_type": "markdown",
   "metadata": {},
   "source": [
    "## 1. Offline Running\n",
    "The STUMP algorithm is run offline, with access to all subsequences."
   ]
  },
  {
   "cell_type": "code",
   "execution_count": 12,
   "metadata": {},
   "outputs": [],
   "source": [
    "import stumpy\n",
    "modelName = 'STUMP'"
   ]
  },
  {
   "cell_type": "code",
   "execution_count": 43,
   "metadata": {},
   "outputs": [
    {
     "data": {
      "text/plain": [
       "8"
      ]
     },
     "execution_count": 43,
     "metadata": {},
     "output_type": "execute_result"
    }
   ],
   "source": [
    "np.product([len(pl) for pl in param_grid.items()])"
   ]
  },
  {
   "cell_type": "code",
   "execution_count": 46,
   "metadata": {},
   "outputs": [
    {
     "data": {
      "text/plain": [
       "[6, 5, 2]"
      ]
     },
     "execution_count": 46,
     "metadata": {},
     "output_type": "execute_result"
    }
   ],
   "source": [
    "[len(pl) for pl in param_grid.values()]"
   ]
  },
  {
   "cell_type": "code",
   "execution_count": 53,
   "metadata": {},
   "outputs": [
    {
     "name": "stderr",
     "output_type": "stream",
     "text": [
      "ECG2_20k:   0%|          | 0/9 [00:00<?, ?it/s]"
     ]
    },
    {
     "name": "stdout",
     "output_type": "stream",
     "text": [
      "Time-Series name: ECG2_20k\n",
      "Estimated Subsequence length:  89\n",
      "\n",
      "[60/60]ECG2_20k  --  Best AUC = 0.9279824595528058 for: (2.0, 20, False)\n",
      "ECG2_20k  --  Best AUC = 0.9279824595528058 for: (2.0, 20, False)\n",
      "Time-Series name: ECG1_20k\n",
      "Estimated Subsequence length:  100\n",
      "\n",
      "ECG1_20k  --  Eval AUC = 0.9678807531982176\n",
      "\n",
      "----------------------------------------------------------------\n"
     ]
    },
    {
     "name": "stderr",
     "output_type": "stream",
     "text": [
      "IOPS2:  11%|█         | 1/9 [01:20<10:39, 79.97s/it]   "
     ]
    },
    {
     "name": "stdout",
     "output_type": "stream",
     "text": [
      "Time-Series name: IOPS2\n",
      "Estimated Subsequence length:  288\n",
      "\n",
      "[60/60]IOPS2  --  Best AUC = 0.872010259212044 for: (0.1, 10, False)\n",
      "IOPS2  --  Best AUC = 0.872010259212044 for: (0.1, 10, False)\n",
      "Time-Series name: IOPS1\n",
      "Estimated Subsequence length:  288\n",
      "\n",
      "IOPS1  --  Eval AUC = 0.7787645976272559\n",
      "\n",
      "----------------------------------------------------------------\n"
     ]
    },
    {
     "name": "stderr",
     "output_type": "stream",
     "text": [
      "SMD2:  22%|██▏       | 2/9 [01:49<05:53, 50.50s/it] "
     ]
    },
    {
     "name": "stdout",
     "output_type": "stream",
     "text": [
      "Time-Series name: SMD2\n",
      "Estimated Subsequence length:  125\n",
      "\n",
      "[60/60]SMD2  --  Best AUC = 0.9605862408854904 for: (5.0, 1, False)\n",
      "SMD2  --  Best AUC = 0.9605862408854904 for: (5.0, 1, False)\n",
      "Time-Series name: SMD1\n",
      "Estimated Subsequence length:  125\n",
      "\n",
      "SMD1  --  Eval AUC = 0.9728612653979087\n",
      "\n",
      "----------------------------------------------------------------\n"
     ]
    },
    {
     "name": "stderr",
     "output_type": "stream",
     "text": [
      "Occupancy2:  33%|███▎      | 3/9 [04:36<10:21, 103.53s/it]"
     ]
    },
    {
     "name": "stdout",
     "output_type": "stream",
     "text": [
      "Time-Series name: Occupancy2\n",
      "Estimated Subsequence length:  125\n",
      "\n",
      "[60/60]Occupancy2  --  Best AUC = 0.9253024436131349 for: (0.5, 20, False)\n",
      "Occupancy2  --  Best AUC = 0.9253024436131349 for: (0.5, 20, False)\n",
      "Time-Series name: Occupancy1\n",
      "Estimated Subsequence length:  125\n",
      "\n",
      "Occupancy1  --  Eval AUC = 0.8991854622884352\n",
      "\n",
      "----------------------------------------------------------------\n"
     ]
    },
    {
     "name": "stderr",
     "output_type": "stream",
     "text": [
      "ECG2+IOPS2:  44%|████▍     | 4/9 [04:44<05:28, 65.63s/it] "
     ]
    },
    {
     "name": "stdout",
     "output_type": "stream",
     "text": [
      "Time-Series name: ECG2+IOPS2\n",
      "Estimated Subsequence length:  89\n",
      "\n",
      "[60/60]ECG2+IOPS2  --  Best AUC = 0.8940744322978126 for: (2.0, 20, False)\n",
      "ECG2+IOPS2  --  Best AUC = 0.8940744322978126 for: (2.0, 20, False)\n",
      "Time-Series name: ECG1+IOPS1\n",
      "Estimated Subsequence length:  100\n",
      "\n",
      "ECG1+IOPS1  --  Eval AUC = 0.7964428659801388\n",
      "\n",
      "----------------------------------------------------------------\n"
     ]
    },
    {
     "name": "stderr",
     "output_type": "stream",
     "text": [
      "SMD2+Occupancy2:  56%|█████▌    | 5/9 [07:13<06:23, 95.87s/it]"
     ]
    },
    {
     "name": "stdout",
     "output_type": "stream",
     "text": [
      "Time-Series name: SMD2+Occupancy2\n",
      "Estimated Subsequence length:  125\n",
      "\n",
      "[60/60]SMD2+Occupancy2  --  Best AUC = 0.9153108878016463 for: (5.0, 1, False)\n",
      "SMD2+Occupancy2  --  Best AUC = 0.9153108878016463 for: (5.0, 1, False)\n",
      "Time-Series name: SMD1+Occupancy1\n",
      "Estimated Subsequence length:  125\n",
      "\n",
      "SMD1+Occupancy1  --  Eval AUC = 0.9241386413698732\n",
      "\n",
      "----------------------------------------------------------------\n"
     ]
    },
    {
     "name": "stderr",
     "output_type": "stream",
     "text": [
      "ECG2+IOPS2+Occupancy2:  67%|██████▋   | 6/9 [10:14<06:14, 124.67s/it]"
     ]
    },
    {
     "name": "stdout",
     "output_type": "stream",
     "text": [
      "Time-Series name: ECG2+IOPS2+Occupancy2\n",
      "Estimated Subsequence length:  89\n",
      "\n",
      "[17/60]ECG2+IOPS2+Occupancy2  --  Best AUC = 0.8547573336428513 for: (0.5, 5, False))"
     ]
    }
   ],
   "source": [
    "results = []\n",
    "\n",
    "# Parameters for tuning.\n",
    "param_grid = {\n",
    "    # Using the estimated window length from the autocorrelation, define alternate window sized as fractions/multiples of that.\n",
    "    'window_length_modifier': [0.1, 0.5, 1.0, 1.5, 2.0, 5.0], \n",
    "    # Number of trees in the isolation forest.\n",
    "    'k': [1, 2, 5, 10, 20],\n",
    "    'normalized': [True, False]\n",
    "}\n",
    "\n",
    "params_to_AUC = defaultdict(dict)\n",
    "\n",
    "total = np.product([len(pl) for pl in param_grid.values()])\n",
    "\n",
    "for timeseries in (p := tqdm(tuning_data)):\n",
    "    ts = preprocess_ts(timeseries=timeseries)\n",
    "    name = ts['name']\n",
    "\n",
    "    p.set_description(name)\n",
    "    x = ts['data']\n",
    "\n",
    "    i = 0\n",
    "    best_AUC = 0\n",
    "    # Initial Best parameters are the defaults.\n",
    "    best_params = (1, 1, True)\n",
    "    for window_length_modifier in param_grid['window_length_modifier']:\n",
    "        for k in param_grid['k']:\n",
    "            for normalize in param_grid['normalized']:\n",
    "                # Prevent too small windows.\n",
    "                window_size = max(10, int(window_length_modifier * ts['slidingWindow']))\n",
    "                score_ = stumpy.stump(T_A=x, m=window_size, k=k, ignore_trivial=True, normalize=normalize)\n",
    "                score = score_.T[k-1]\n",
    "                \n",
    "                score = [s if s != np.inf else 0 for s in score]\n",
    "                score = np.array(score)\n",
    "                score = MinMaxScaler(feature_range=(0,1)).fit_transform(score.reshape(-1,1)).ravel()\n",
    "                score = np.array([score[0]]*math.ceil((window_size-1)/2) + list(score) + [score[-1]]*((window_size-1)//2))\n",
    "                \n",
    "                AUC = printResult(ts['data'], ts['label'], score, window_size, ts['name'], modelName)[0]\n",
    "\n",
    "                params_to_AUC[name][(window_length_modifier, k, normalize)] = AUC\n",
    "\n",
    "                if AUC > best_AUC:\n",
    "                    best_AUC = AUC\n",
    "                    best_params = (window_length_modifier, k, normalize)\n",
    "\n",
    "                i+=1\n",
    "                print(f\"\\r[{i}/{total}]{name}  --  Best AUC = {best_AUC} for: {best_params}\", end='')\n",
    "    print()\n",
    "    print(f\"{name}  --  Best AUC = {best_AUC} for: {best_params}\")\n",
    "\n",
    "    # Evaluate evaluation time series with selected parameters.\n",
    "    eval_series_name = ''.join([n if n!='2' else '1' for n in name]).replace('10k', '20k')  # Replace 2s with 1s.\n",
    "    ts = preprocess_ts(timeseries=name_to_eval_series[eval_series_name])\n",
    "    x = ts['data']\n",
    "\n",
    "    window_size = max(10, int(ts['slidingWindow'] * best_params[0]))\n",
    "    k = best_params[1]\n",
    "    normalize = best_params[2]\n",
    "\n",
    "    t0 = time()\n",
    "    score_ = stumpy.stump(T_A=x, m=window_size, k=k, ignore_trivial=True, normalize=normalize)\n",
    "    t1 = time()\n",
    "    score = score_.T[k-1]\n",
    "    \n",
    "    score = np.array(score)\n",
    "    score = MinMaxScaler(feature_range=(0,1)).fit_transform(score.reshape(-1,1)).ravel()\n",
    "    score = np.array([score[0]]*math.ceil((window_size-1)/2) + list(score) + [score[-1]]*((window_size-1)//2))\n",
    "    \n",
    "    L = printResult(ts['data'], ts['label'], score, window_size, ts['name'], modelName)\n",
    "    print(f\"{eval_series_name}  --  Eval AUC = {L[0]}\")\n",
    "    results.append([name] + L + [t1-t0, len(x)])\n",
    "\n",
    "    print()\n",
    "    print('----------------------------------------------------------------')\n",
    "    timemod.sleep(1)"
   ]
  },
  {
   "cell_type": "code",
   "execution_count": 10,
   "metadata": {},
   "outputs": [],
   "source": [
    "columns = ['Name'] + ['AUC', 'Precision', 'Recall', 'F-score', 'Range-recall', 'ExistenceReward', 'OverlapReward', 'Range-precision', 'Range-Fscore', 'Precision@k', 'RangeAUC', 'Time', 'Number of Windows']\n",
    "df = pd.DataFrame(results, columns=columns)"
   ]
  },
  {
   "cell_type": "code",
   "execution_count": 11,
   "metadata": {},
   "outputs": [
    {
     "data": {
      "text/html": [
       "<div>\n",
       "<style scoped>\n",
       "    .dataframe tbody tr th:only-of-type {\n",
       "        vertical-align: middle;\n",
       "    }\n",
       "\n",
       "    .dataframe tbody tr th {\n",
       "        vertical-align: top;\n",
       "    }\n",
       "\n",
       "    .dataframe thead th {\n",
       "        text-align: right;\n",
       "    }\n",
       "</style>\n",
       "<table border=\"1\" class=\"dataframe\">\n",
       "  <thead>\n",
       "    <tr style=\"text-align: right;\">\n",
       "      <th></th>\n",
       "      <th>Name</th>\n",
       "      <th>AUC</th>\n",
       "      <th>Precision@k</th>\n",
       "      <th>Number of anomalies</th>\n",
       "      <th>Time</th>\n",
       "      <th>Number of Windows</th>\n",
       "    </tr>\n",
       "  </thead>\n",
       "  <tbody>\n",
       "    <tr>\n",
       "      <th>0</th>\n",
       "      <td>ECG1</td>\n",
       "      <td>0.635414</td>\n",
       "      <td>0.084577</td>\n",
       "      <td>21105.0</td>\n",
       "      <td>63.399095</td>\n",
       "      <td>229900</td>\n",
       "    </tr>\n",
       "    <tr>\n",
       "      <th>1</th>\n",
       "      <td>ECG1_20k</td>\n",
       "      <td>0.857905</td>\n",
       "      <td>0.133333</td>\n",
       "      <td>675.0</td>\n",
       "      <td>0.288338</td>\n",
       "      <td>20000</td>\n",
       "    </tr>\n",
       "    <tr>\n",
       "      <th>2</th>\n",
       "      <td>IOPS1</td>\n",
       "      <td>0.719323</td>\n",
       "      <td>0.189320</td>\n",
       "      <td>206.0</td>\n",
       "      <td>0.279814</td>\n",
       "      <td>8784</td>\n",
       "    </tr>\n",
       "    <tr>\n",
       "      <th>3</th>\n",
       "      <td>SMD1</td>\n",
       "      <td>0.472878</td>\n",
       "      <td>0.000000</td>\n",
       "      <td>2694.0</td>\n",
       "      <td>0.917965</td>\n",
       "      <td>28479</td>\n",
       "    </tr>\n",
       "    <tr>\n",
       "      <th>4</th>\n",
       "      <td>Occupancy1</td>\n",
       "      <td>0.169576</td>\n",
       "      <td>0.000000</td>\n",
       "      <td>972.0</td>\n",
       "      <td>0.072367</td>\n",
       "      <td>2665</td>\n",
       "    </tr>\n",
       "    <tr>\n",
       "      <th>5</th>\n",
       "      <td>ECG1+IOPS1</td>\n",
       "      <td>0.759207</td>\n",
       "      <td>0.098751</td>\n",
       "      <td>881.0</td>\n",
       "      <td>0.962583</td>\n",
       "      <td>28784</td>\n",
       "    </tr>\n",
       "    <tr>\n",
       "      <th>6</th>\n",
       "      <td>SMD1+Occupancy1</td>\n",
       "      <td>0.377355</td>\n",
       "      <td>0.000000</td>\n",
       "      <td>3666.0</td>\n",
       "      <td>1.031239</td>\n",
       "      <td>31144</td>\n",
       "    </tr>\n",
       "    <tr>\n",
       "      <th>7</th>\n",
       "      <td>ECG1+IOPS1+Occupancy1</td>\n",
       "      <td>0.765244</td>\n",
       "      <td>0.058284</td>\n",
       "      <td>1853.0</td>\n",
       "      <td>1.064308</td>\n",
       "      <td>31449</td>\n",
       "    </tr>\n",
       "    <tr>\n",
       "      <th>8</th>\n",
       "      <td>SMD1+ECG1+Occupancy1</td>\n",
       "      <td>0.576887</td>\n",
       "      <td>0.000000</td>\n",
       "      <td>4341.0</td>\n",
       "      <td>1.995396</td>\n",
       "      <td>51144</td>\n",
       "    </tr>\n",
       "    <tr>\n",
       "      <th>9</th>\n",
       "      <td>ECG1+IOPS1+SMD1+Occupancy1</td>\n",
       "      <td>0.613329</td>\n",
       "      <td>0.000000</td>\n",
       "      <td>4547.0</td>\n",
       "      <td>2.595874</td>\n",
       "      <td>59928</td>\n",
       "    </tr>\n",
       "  </tbody>\n",
       "</table>\n",
       "</div>"
      ],
      "text/plain": [
       "                         Name       AUC  Precision@k  Number of anomalies  \\\n",
       "0                        ECG1  0.635414     0.084577              21105.0   \n",
       "1                    ECG1_20k  0.857905     0.133333                675.0   \n",
       "2                       IOPS1  0.719323     0.189320                206.0   \n",
       "3                        SMD1  0.472878     0.000000               2694.0   \n",
       "4                  Occupancy1  0.169576     0.000000                972.0   \n",
       "5                  ECG1+IOPS1  0.759207     0.098751                881.0   \n",
       "6             SMD1+Occupancy1  0.377355     0.000000               3666.0   \n",
       "7       ECG1+IOPS1+Occupancy1  0.765244     0.058284               1853.0   \n",
       "8        SMD1+ECG1+Occupancy1  0.576887     0.000000               4341.0   \n",
       "9  ECG1+IOPS1+SMD1+Occupancy1  0.613329     0.000000               4547.0   \n",
       "\n",
       "        Time  Number of Windows  \n",
       "0  63.399095             229900  \n",
       "1   0.288338              20000  \n",
       "2   0.279814               8784  \n",
       "3   0.917965              28479  \n",
       "4   0.072367               2665  \n",
       "5   0.962583              28784  \n",
       "6   1.031239              31144  \n",
       "7   1.064308              31449  \n",
       "8   1.995396              51144  \n",
       "9   2.595874              59928  "
      ]
     },
     "execution_count": 11,
     "metadata": {},
     "output_type": "execute_result"
    }
   ],
   "source": [
    "df['Number of anomalies'] = df['Name'].apply(lambda x: np.sum(preprocessed_dict[x]['label']))\n",
    "df[['Name', 'AUC', 'Precision@k', 'Number of anomalies', 'Time', 'Number of Windows']]"
   ]
  },
  {
   "cell_type": "code",
   "execution_count": 12,
   "metadata": {},
   "outputs": [],
   "source": [
    "df.to_csv('Results/Static/STUMP-results.csv', index=False)"
   ]
  },
  {
   "cell_type": "markdown",
   "metadata": {},
   "source": [
    "## 2. Online Running: Variant 1\n",
    "The STUMP algorithm is run online, with access to limited subsequences. In this variant, the algorithm only has access to the subsequences of a given (current) batch."
   ]
  },
  {
   "cell_type": "code",
   "execution_count": 13,
   "metadata": {},
   "outputs": [
    {
     "name": "stderr",
     "output_type": "stream",
     "text": [
      "Processing Batch: 100%|██████████| 1533/1533 [00:11<00:00, 138.05it/s]\n",
      "Processing Batch: 100%|██████████| 133/133 [00:00<00:00, 136.52it/s]\n",
      "Processing Batch: 100%|██████████| 57/57 [00:00<00:00, 137.98it/s]\n",
      "Processing Batch: 100%|██████████| 190/190 [00:01<00:00, 141.64it/s]\n",
      "Processing Batch: 100%|██████████| 17/17 [00:00<00:00, 135.78it/s]\n",
      "Processing Batch: 100%|██████████| 192/192 [00:01<00:00, 137.25it/s]\n",
      "Processing Batch: 100%|██████████| 207/207 [00:00<00:00, 211.92it/s]\n",
      "Processing Batch: 100%|██████████| 209/209 [00:01<00:00, 208.93it/s]]\n",
      "Processing Batch: 100%|██████████| 341/341 [00:01<00:00, 211.37it/s] \n",
      "Processing Batch: 100%|██████████| 399/399 [00:01<00:00, 213.48it/s]4s/it]\n",
      "ECG1+IOPS1+SMD1+Occupancy1: 100%|██████████| 10/10 [00:24<00:00,  2.49s/it]\n"
     ]
    }
   ],
   "source": [
    "results = []\n",
    "\n",
    "for name in (p := tqdm(preprocessed_dict.keys())):\n",
    "    p.set_description(name)\n",
    "    ts = preprocessed_dict[name]\n",
    "    window_size = ts['slidingWindow']\n",
    "    \n",
    "    k = 1\n",
    "    score = []\n",
    "    t0 = time()\n",
    "    for batch in tqdm(ts['batched_data'], desc='Processing Batch'):\n",
    "        score_ = stumpy.stump(T_A=batch, m=window_size, k=k, ignore_trivial=True, normalize=True)\n",
    "        score.extend(score_.T[k-1])\n",
    "    t1 = time()\n",
    "\n",
    "    # In some combinations of batch size and window size, windows overlap with all closest-distance candidates and cannot be scored.\n",
    "    # In this case, inf is returned. To fix this, any instances of infinite distances are replaced with zero distance.\n",
    "    score = [s if s != np.inf else 0 for s in score]\n",
    "    score = np.array(score)\n",
    "    score = MinMaxScaler(feature_range=(0,1)).fit_transform(score.reshape(-1,1)).ravel()\n",
    "    score = np.array([score[0]]*math.ceil((ts['slidingWindow']-1)/2) + list(score) + [score[-1]]*((ts['slidingWindow']-1)//2))\n",
    "    \n",
    "    L = printResult(ts['data'], ts['label'], score, ts['slidingWindow'], ts['name'], modelName)\n",
    "    results.append([name] + L + [t1-t0, len(x)])"
   ]
  },
  {
   "cell_type": "code",
   "execution_count": 14,
   "metadata": {},
   "outputs": [],
   "source": [
    "columns = ['Name'] + ['AUC', 'Precision', 'Recall', 'F-score', 'Range-recall', 'ExistenceReward', 'OverlapReward', 'Range-precision', 'Range-Fscore', 'Precision@k', 'RangeAUC', 'Time', 'Number of Windows']\n",
    "df = pd.DataFrame(results, columns=columns)"
   ]
  },
  {
   "cell_type": "code",
   "execution_count": 15,
   "metadata": {},
   "outputs": [
    {
     "data": {
      "text/html": [
       "<div>\n",
       "<style scoped>\n",
       "    .dataframe tbody tr th:only-of-type {\n",
       "        vertical-align: middle;\n",
       "    }\n",
       "\n",
       "    .dataframe tbody tr th {\n",
       "        vertical-align: top;\n",
       "    }\n",
       "\n",
       "    .dataframe thead th {\n",
       "        text-align: right;\n",
       "    }\n",
       "</style>\n",
       "<table border=\"1\" class=\"dataframe\">\n",
       "  <thead>\n",
       "    <tr style=\"text-align: right;\">\n",
       "      <th></th>\n",
       "      <th>Name</th>\n",
       "      <th>AUC</th>\n",
       "      <th>Precision@k</th>\n",
       "      <th>Number of anomalies</th>\n",
       "      <th>Time</th>\n",
       "      <th>Number of Windows</th>\n",
       "    </tr>\n",
       "  </thead>\n",
       "  <tbody>\n",
       "    <tr>\n",
       "      <th>0</th>\n",
       "      <td>ECG1</td>\n",
       "      <td>0.696418</td>\n",
       "      <td>0.0</td>\n",
       "      <td>21105.0</td>\n",
       "      <td>11.109997</td>\n",
       "      <td>59928</td>\n",
       "    </tr>\n",
       "    <tr>\n",
       "      <th>1</th>\n",
       "      <td>ECG1_20k</td>\n",
       "      <td>0.689407</td>\n",
       "      <td>0.0</td>\n",
       "      <td>675.0</td>\n",
       "      <td>0.979199</td>\n",
       "      <td>59928</td>\n",
       "    </tr>\n",
       "    <tr>\n",
       "      <th>2</th>\n",
       "      <td>IOPS1</td>\n",
       "      <td>0.596923</td>\n",
       "      <td>0.0</td>\n",
       "      <td>206.0</td>\n",
       "      <td>0.416120</td>\n",
       "      <td>59928</td>\n",
       "    </tr>\n",
       "    <tr>\n",
       "      <th>3</th>\n",
       "      <td>SMD1</td>\n",
       "      <td>0.556622</td>\n",
       "      <td>0.0</td>\n",
       "      <td>2694.0</td>\n",
       "      <td>1.345566</td>\n",
       "      <td>59928</td>\n",
       "    </tr>\n",
       "    <tr>\n",
       "      <th>4</th>\n",
       "      <td>Occupancy1</td>\n",
       "      <td>0.186049</td>\n",
       "      <td>0.0</td>\n",
       "      <td>972.0</td>\n",
       "      <td>0.129305</td>\n",
       "      <td>59928</td>\n",
       "    </tr>\n",
       "    <tr>\n",
       "      <th>5</th>\n",
       "      <td>ECG1+IOPS1</td>\n",
       "      <td>0.708663</td>\n",
       "      <td>0.0</td>\n",
       "      <td>881.0</td>\n",
       "      <td>1.402862</td>\n",
       "      <td>59928</td>\n",
       "    </tr>\n",
       "    <tr>\n",
       "      <th>6</th>\n",
       "      <td>SMD1+Occupancy1</td>\n",
       "      <td>0.441063</td>\n",
       "      <td>0.0</td>\n",
       "      <td>3666.0</td>\n",
       "      <td>0.981996</td>\n",
       "      <td>59928</td>\n",
       "    </tr>\n",
       "    <tr>\n",
       "      <th>7</th>\n",
       "      <td>ECG1+IOPS1+Occupancy1</td>\n",
       "      <td>0.499768</td>\n",
       "      <td>0.0</td>\n",
       "      <td>1853.0</td>\n",
       "      <td>1.003361</td>\n",
       "      <td>59928</td>\n",
       "    </tr>\n",
       "    <tr>\n",
       "      <th>8</th>\n",
       "      <td>SMD1+ECG1+Occupancy1</td>\n",
       "      <td>0.542541</td>\n",
       "      <td>0.0</td>\n",
       "      <td>4341.0</td>\n",
       "      <td>1.617278</td>\n",
       "      <td>59928</td>\n",
       "    </tr>\n",
       "    <tr>\n",
       "      <th>9</th>\n",
       "      <td>ECG1+IOPS1+SMD1+Occupancy1</td>\n",
       "      <td>0.525118</td>\n",
       "      <td>0.0</td>\n",
       "      <td>4547.0</td>\n",
       "      <td>1.872202</td>\n",
       "      <td>59928</td>\n",
       "    </tr>\n",
       "  </tbody>\n",
       "</table>\n",
       "</div>"
      ],
      "text/plain": [
       "                         Name       AUC  Precision@k  Number of anomalies  \\\n",
       "0                        ECG1  0.696418          0.0              21105.0   \n",
       "1                    ECG1_20k  0.689407          0.0                675.0   \n",
       "2                       IOPS1  0.596923          0.0                206.0   \n",
       "3                        SMD1  0.556622          0.0               2694.0   \n",
       "4                  Occupancy1  0.186049          0.0                972.0   \n",
       "5                  ECG1+IOPS1  0.708663          0.0                881.0   \n",
       "6             SMD1+Occupancy1  0.441063          0.0               3666.0   \n",
       "7       ECG1+IOPS1+Occupancy1  0.499768          0.0               1853.0   \n",
       "8        SMD1+ECG1+Occupancy1  0.542541          0.0               4341.0   \n",
       "9  ECG1+IOPS1+SMD1+Occupancy1  0.525118          0.0               4547.0   \n",
       "\n",
       "        Time  Number of Windows  \n",
       "0  11.109997              59928  \n",
       "1   0.979199              59928  \n",
       "2   0.416120              59928  \n",
       "3   1.345566              59928  \n",
       "4   0.129305              59928  \n",
       "5   1.402862              59928  \n",
       "6   0.981996              59928  \n",
       "7   1.003361              59928  \n",
       "8   1.617278              59928  \n",
       "9   1.872202              59928  "
      ]
     },
     "execution_count": 15,
     "metadata": {},
     "output_type": "execute_result"
    }
   ],
   "source": [
    "df['Number of anomalies'] = df['Name'].apply(lambda x: np.sum(preprocessed_dict[x]['label']))\n",
    "df[['Name', 'AUC', 'Precision@k', 'Number of anomalies', 'Time', 'Number of Windows']]"
   ]
  },
  {
   "cell_type": "code",
   "execution_count": 16,
   "metadata": {},
   "outputs": [],
   "source": [
    "df.to_csv('Results/Variant_1/STUMP-results.csv', index=False)"
   ]
  }
 ],
 "metadata": {
  "kernelspec": {
   "display_name": "Python 3 (ipykernel)",
   "language": "python",
   "name": "python3"
  },
  "language_info": {
   "codemirror_mode": {
    "name": "ipython",
    "version": 3
   },
   "file_extension": ".py",
   "mimetype": "text/x-python",
   "name": "python",
   "nbconvert_exporter": "python",
   "pygments_lexer": "ipython3",
   "version": "3.8.19"
  }
 },
 "nbformat": 4,
 "nbformat_minor": 4
}
