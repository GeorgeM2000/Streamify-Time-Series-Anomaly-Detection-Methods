{
 "cells": [
  {
   "cell_type": "markdown",
   "metadata": {},
   "source": [
    "# Variant 1: Outlier detection per-batch only\n",
    "\n",
    "In this notebook, the two outlier detection methods selected (Isolation Forest and STUMP/Matrix Profile) are evaluated in a streaming environment where they are only applied in the current batch. This means that they are not given any other information besides the windows assigned in the batch they are given in each step."
   ]
  },
  {
   "cell_type": "markdown",
   "metadata": {},
   "source": [
    "## ***Importing Libraries***"
   ]
  },
  {
   "cell_type": "code",
   "execution_count": 35,
   "metadata": {},
   "outputs": [],
   "source": [
    "import math\n",
    "import os\n",
    "import sys\n",
    "import json\n",
    "from time import time\n",
    "\n",
    "import matplotlib.pyplot as plt\n",
    "import pandas as pd\n",
    "import numpy as np\n",
    "import pickle as pkl\n",
    "from tqdm import tqdm\n",
    "\n",
    "from sklearn.preprocessing import MinMaxScaler\n",
    "from pathlib import Path"
   ]
  },
  {
   "cell_type": "code",
   "execution_count": 36,
   "metadata": {},
   "outputs": [],
   "source": [
    "from TSB_UAD.models.distance import Fourier\n",
    "from TSB_UAD.models.feature import Window\n",
    "from TSB_UAD.utils.slidingWindows import find_length, plotFig, printResult\n",
    "\n",
    "from TSB_UAD.models.iforest import IForest"
   ]
  },
  {
   "cell_type": "markdown",
   "metadata": {},
   "source": [
    "## ***Data Pre-Processing***"
   ]
  },
  {
   "cell_type": "code",
   "execution_count": 37,
   "metadata": {},
   "outputs": [],
   "source": [
    "# Load the data for the evaluation.\n",
    "all_data = []\n",
    "\n",
    "with open('dataset.pkl', 'rb') as f:\n",
    "    data = pkl.load(f)\n",
    "\n",
    "all_data.extend(data['evaluation']['single_normality'])\n",
    "all_data.extend(data['evaluation']['double_normality'])\n",
    "all_data.extend(data['evaluation']['triple_normality'])\n",
    "all_data.extend(data['evaluation']['quadruple_normality'])"
   ]
  },
  {
   "cell_type": "code",
   "execution_count": 38,
   "metadata": {},
   "outputs": [],
   "source": [
    "preprocessed_dict = {}"
   ]
  },
  {
   "cell_type": "code",
   "execution_count": 53,
   "metadata": {},
   "outputs": [
    {
     "name": "stdout",
     "output_type": "stream",
     "text": [
      "Time-Series name: ECG1\n",
      "Estimated Subsequence length:  100\n",
      "\n",
      "Time-Series name: ECG1_20k\n",
      "Estimated Subsequence length:  100\n",
      "\n",
      "Time-Series name: IOPS1\n",
      "Estimated Subsequence length:  288\n",
      "\n",
      "Time-Series name: SMD1\n",
      "Estimated Subsequence length:  125\n",
      "\n",
      "Time-Series name: Occupancy1\n",
      "Estimated Subsequence length:  125\n",
      "\n",
      "Time-Series name: ECG1+IOPS1\n",
      "Estimated Subsequence length:  100\n",
      "\n",
      "Time-Series name: SMD1+Occupancy1\n",
      "Estimated Subsequence length:  125\n",
      "\n",
      "Time-Series name: ECG1+IOPS1+Occupancy1\n",
      "Estimated Subsequence length:  100\n",
      "\n",
      "Time-Series name: SMD1+ECG1+Occupancy1\n",
      "Estimated Subsequence length:  125\n",
      "\n",
      "Time-Series name: ECG1+IOPS1+SMD1+Occupancy1\n",
      "Estimated Subsequence length:  100\n",
      "\n"
     ]
    }
   ],
   "source": [
    "# Set the number of windows to be fit per batch.\n",
    "windows_per_batch = 150\n",
    "\n",
    "for timeseries in all_data:\n",
    "    \n",
    "    # === Pre-processing steps ===\n",
    "\n",
    "    # Prepare data for unsupervised method\n",
    "    name = timeseries['Name']\n",
    "\n",
    "    data = timeseries['data']\n",
    "    max_length = data.shape[0]\n",
    "    label = timeseries['labels']\n",
    "\n",
    "    slidingWindow = find_length(data)\n",
    "    X_data = Window(window=slidingWindow).convert(data).to_numpy()\n",
    "\n",
    "    # Take the series and batch it.\n",
    "    batched_data = []\n",
    "\n",
    "    i = 0\n",
    "    flag = True\n",
    "    # Keep taking batches until the point at which no new windows can be taken.\n",
    "    while i < len(data) and flag:\n",
    "        # The data batches begin at the index indicated. If first batch, then the beginning of the time series.\n",
    "        batch_samples_begin = i\n",
    "\n",
    "        # The data batches end at the index where `windows_per_batch` can be *completely* extracted since the batch beginning. \n",
    "        # Formula: \n",
    "        #   i: current beginning of batch / offset\n",
    "        #   + slidingWindow: to have enough samples extract one window\n",
    "        #   + windows_per_batch: to have enough samples to extract the rest of the windows\n",
    "        #   - 1: because the first window extracted is counted twice\n",
    "        batch_samples_end = i + windows_per_batch + slidingWindow - 1\n",
    "        \n",
    "        # Guard against the ending of the time series where a full batch cannot be formed.\n",
    "        if batch_samples_end > len(data):\n",
    "            batch_samples_end = len(data)\n",
    "            flag = False\n",
    " \n",
    "        # Guard against case where the batch cannot hold even one window.\n",
    "        if len(data[batch_samples_begin:batch_samples_end]) < slidingWindow:\n",
    "            break\n",
    "\n",
    "        batched_data.append(data[batch_samples_begin:batch_samples_end])\n",
    "\n",
    "        # The next batch starts at the point where a new window be created after the last window of the last batch.\n",
    "        # So, end of the previous window - length of window = start of the last window.\n",
    "        #   start of the last window + 1 = start of the first window of the next batch.\n",
    "        i = batch_samples_end - slidingWindow + 1\n",
    "\n",
    "    # Take the windows and batch them.\n",
    "    batched_X_data = []\n",
    "    i = 0\n",
    "    while i < len(X_data):\n",
    "        begin = i\n",
    "        end = i + windows_per_batch\n",
    "        if end > len(X_data):\n",
    "            end = len(X_data)\n",
    "\n",
    "        batched_X_data.append(X_data[begin:end])\n",
    "        i += windows_per_batch\n",
    "\n",
    "    print(f'Time-Series name: {name}')\n",
    "    print(\"Estimated Subsequence length: \", slidingWindow)\n",
    "    print()\n",
    "    \n",
    "    # Store the pre-processed variables in the new dictionary\n",
    "    preprocessed_dict[name] = {\n",
    "        'name': name,\n",
    "        'data': data,\n",
    "        'label': label,\n",
    "        'slidingWindow': slidingWindow,\n",
    "        'X_data': X_data,\n",
    "        'batched_X_data': batched_X_data,\n",
    "        'batched_data': batched_data,\n",
    "        'Time series length': len(data),\n",
    "        'Number of abnormal points': list(label).count(1)\n",
    "    }"
   ]
  },
  {
   "cell_type": "markdown",
   "metadata": {},
   "source": [
    "## ***Anomaly Detection***"
   ]
  },
  {
   "cell_type": "markdown",
   "metadata": {},
   "source": [
    "### ***Isolation Forest***"
   ]
  },
  {
   "cell_type": "code",
   "execution_count": 8,
   "metadata": {},
   "outputs": [],
   "source": [
    "from tqdm.notebook import tqdm_notebook as tqdm\n",
    "\n",
    "modelName = 'IForest'\n",
    "clf = IForest(n_jobs=10)"
   ]
  },
  {
   "cell_type": "code",
   "execution_count": 9,
   "metadata": {},
   "outputs": [
    {
     "data": {
      "application/json": {
       "ascii": false,
       "bar_format": null,
       "colour": null,
       "elapsed": 0.00400090217590332,
       "initial": 0,
       "n": 0,
       "ncols": null,
       "nrows": null,
       "postfix": null,
       "prefix": "",
       "rate": null,
       "total": 10,
       "unit": "it",
       "unit_divisor": 1000,
       "unit_scale": false
      },
      "application/vnd.jupyter.widget-view+json": {
       "model_id": "328f7baaa65740b48055703b21658c6a",
       "version_major": 2,
       "version_minor": 0
      },
      "text/plain": [
       "  0%|          | 0/10 [00:00<?, ?it/s]"
      ]
     },
     "metadata": {},
     "output_type": "display_data"
    },
    {
     "data": {
      "application/json": {
       "ascii": false,
       "bar_format": null,
       "colour": null,
       "elapsed": 0.004997968673706055,
       "initial": 0,
       "n": 0,
       "ncols": null,
       "nrows": null,
       "postfix": null,
       "prefix": "Processing Batch",
       "rate": null,
       "total": 1533,
       "unit": "it",
       "unit_divisor": 1000,
       "unit_scale": false
      },
      "application/vnd.jupyter.widget-view+json": {
       "model_id": "b0f7d30e52be4d58b5617a57e74f1392",
       "version_major": 2,
       "version_minor": 0
      },
      "text/plain": [
       "Processing Batch:   0%|          | 0/1533 [00:00<?, ?it/s]"
      ]
     },
     "metadata": {},
     "output_type": "display_data"
    },
    {
     "data": {
      "application/json": {
       "ascii": false,
       "bar_format": null,
       "colour": null,
       "elapsed": 0.004000186920166016,
       "initial": 0,
       "n": 0,
       "ncols": null,
       "nrows": null,
       "postfix": null,
       "prefix": "Processing Batch",
       "rate": null,
       "total": 133,
       "unit": "it",
       "unit_divisor": 1000,
       "unit_scale": false
      },
      "application/vnd.jupyter.widget-view+json": {
       "model_id": "e4a385801fbd4f71b759781c4a31a3fb",
       "version_major": 2,
       "version_minor": 0
      },
      "text/plain": [
       "Processing Batch:   0%|          | 0/133 [00:00<?, ?it/s]"
      ]
     },
     "metadata": {},
     "output_type": "display_data"
    },
    {
     "data": {
      "application/json": {
       "ascii": false,
       "bar_format": null,
       "colour": null,
       "elapsed": 0.003997325897216797,
       "initial": 0,
       "n": 0,
       "ncols": null,
       "nrows": null,
       "postfix": null,
       "prefix": "Processing Batch",
       "rate": null,
       "total": 57,
       "unit": "it",
       "unit_divisor": 1000,
       "unit_scale": false
      },
      "application/vnd.jupyter.widget-view+json": {
       "model_id": "9e0e266a71bf457c87a834a6248c06e5",
       "version_major": 2,
       "version_minor": 0
      },
      "text/plain": [
       "Processing Batch:   0%|          | 0/57 [00:00<?, ?it/s]"
      ]
     },
     "metadata": {},
     "output_type": "display_data"
    },
    {
     "data": {
      "application/json": {
       "ascii": false,
       "bar_format": null,
       "colour": null,
       "elapsed": 0.00299835205078125,
       "initial": 0,
       "n": 0,
       "ncols": null,
       "nrows": null,
       "postfix": null,
       "prefix": "Processing Batch",
       "rate": null,
       "total": 190,
       "unit": "it",
       "unit_divisor": 1000,
       "unit_scale": false
      },
      "application/vnd.jupyter.widget-view+json": {
       "model_id": "89a6b6dda81449fcb79bdeeff3faf099",
       "version_major": 2,
       "version_minor": 0
      },
      "text/plain": [
       "Processing Batch:   0%|          | 0/190 [00:00<?, ?it/s]"
      ]
     },
     "metadata": {},
     "output_type": "display_data"
    },
    {
     "data": {
      "application/json": {
       "ascii": false,
       "bar_format": null,
       "colour": null,
       "elapsed": 0.003999471664428711,
       "initial": 0,
       "n": 0,
       "ncols": null,
       "nrows": null,
       "postfix": null,
       "prefix": "Processing Batch",
       "rate": null,
       "total": 17,
       "unit": "it",
       "unit_divisor": 1000,
       "unit_scale": false
      },
      "application/vnd.jupyter.widget-view+json": {
       "model_id": "0cceee8ce8e34afc8a84fb89ddfdb5d8",
       "version_major": 2,
       "version_minor": 0
      },
      "text/plain": [
       "Processing Batch:   0%|          | 0/17 [00:00<?, ?it/s]"
      ]
     },
     "metadata": {},
     "output_type": "display_data"
    },
    {
     "data": {
      "application/json": {
       "ascii": false,
       "bar_format": null,
       "colour": null,
       "elapsed": 0.005000114440917969,
       "initial": 0,
       "n": 0,
       "ncols": null,
       "nrows": null,
       "postfix": null,
       "prefix": "Processing Batch",
       "rate": null,
       "total": 192,
       "unit": "it",
       "unit_divisor": 1000,
       "unit_scale": false
      },
      "application/vnd.jupyter.widget-view+json": {
       "model_id": "472a0fd970c147548d8c3c15a2672b88",
       "version_major": 2,
       "version_minor": 0
      },
      "text/plain": [
       "Processing Batch:   0%|          | 0/192 [00:00<?, ?it/s]"
      ]
     },
     "metadata": {},
     "output_type": "display_data"
    },
    {
     "data": {
      "application/json": {
       "ascii": false,
       "bar_format": null,
       "colour": null,
       "elapsed": 0.004002809524536133,
       "initial": 0,
       "n": 0,
       "ncols": null,
       "nrows": null,
       "postfix": null,
       "prefix": "Processing Batch",
       "rate": null,
       "total": 207,
       "unit": "it",
       "unit_divisor": 1000,
       "unit_scale": false
      },
      "application/vnd.jupyter.widget-view+json": {
       "model_id": "4ec03ec3ef6247309e664f0928e6fdb4",
       "version_major": 2,
       "version_minor": 0
      },
      "text/plain": [
       "Processing Batch:   0%|          | 0/207 [00:00<?, ?it/s]"
      ]
     },
     "metadata": {},
     "output_type": "display_data"
    },
    {
     "data": {
      "application/json": {
       "ascii": false,
       "bar_format": null,
       "colour": null,
       "elapsed": 0.0041506290435791016,
       "initial": 0,
       "n": 0,
       "ncols": null,
       "nrows": null,
       "postfix": null,
       "prefix": "Processing Batch",
       "rate": null,
       "total": 209,
       "unit": "it",
       "unit_divisor": 1000,
       "unit_scale": false
      },
      "application/vnd.jupyter.widget-view+json": {
       "model_id": "7da1e8b431e346e2bf439c087cf03e08",
       "version_major": 2,
       "version_minor": 0
      },
      "text/plain": [
       "Processing Batch:   0%|          | 0/209 [00:00<?, ?it/s]"
      ]
     },
     "metadata": {},
     "output_type": "display_data"
    },
    {
     "data": {
      "application/json": {
       "ascii": false,
       "bar_format": null,
       "colour": null,
       "elapsed": 0.004999876022338867,
       "initial": 0,
       "n": 0,
       "ncols": null,
       "nrows": null,
       "postfix": null,
       "prefix": "Processing Batch",
       "rate": null,
       "total": 341,
       "unit": "it",
       "unit_divisor": 1000,
       "unit_scale": false
      },
      "application/vnd.jupyter.widget-view+json": {
       "model_id": "cf6d5a4821db453eabae0038f2a83dc7",
       "version_major": 2,
       "version_minor": 0
      },
      "text/plain": [
       "Processing Batch:   0%|          | 0/341 [00:00<?, ?it/s]"
      ]
     },
     "metadata": {},
     "output_type": "display_data"
    },
    {
     "data": {
      "application/json": {
       "ascii": false,
       "bar_format": null,
       "colour": null,
       "elapsed": 0.003999948501586914,
       "initial": 0,
       "n": 0,
       "ncols": null,
       "nrows": null,
       "postfix": null,
       "prefix": "Processing Batch",
       "rate": null,
       "total": 399,
       "unit": "it",
       "unit_divisor": 1000,
       "unit_scale": false
      },
      "application/vnd.jupyter.widget-view+json": {
       "model_id": "3e1ceb6b8cf7460db0ff4a0294644bf7",
       "version_major": 2,
       "version_minor": 0
      },
      "text/plain": [
       "Processing Batch:   0%|          | 0/399 [00:00<?, ?it/s]"
      ]
     },
     "metadata": {},
     "output_type": "display_data"
    }
   ],
   "source": [
    "results = []\n",
    "\n",
    "for name in (p := tqdm(preprocessed_dict.keys())):\n",
    "    p.set_description(name)\n",
    "    ts = preprocessed_dict[name]\n",
    "    x = ts['X_data']\n",
    "\n",
    "    score = []\n",
    "    t0 = time()\n",
    "    for batch in tqdm(ts['batched_X_data'], desc='Processing Batch'):\n",
    "        # Sometimes the last batch has only one window. That is a problem because with only a window, the problem of finding if that window is an outlier or not can be undefined. \n",
    "        # In that case, skip evaluating that window and assign the same score as the last window from the previous batch.\n",
    "        if len(batch) == 1:\n",
    "            score.append(score[-1])\n",
    "        else:\n",
    "            clf.fit(batch)\n",
    "            score.extend(clf.decision_scores_)\n",
    "    t1 = time()\n",
    "    \n",
    "    score = np.array(score)\n",
    "    score = MinMaxScaler(feature_range=(0,1)).fit_transform(score.reshape(-1,1)).ravel()\n",
    "    score = np.array([score[0]]*math.ceil((ts['slidingWindow']-1)/2) + list(score) + [score[-1]]*((ts['slidingWindow']-1)//2))\n",
    "    \n",
    "    L = printResult(ts['data'], ts['label'], score, ts['slidingWindow'], ts['name'], modelName)\n",
    "    results.append([name] + L + [t1-t0, len(x)])"
   ]
  },
  {
   "cell_type": "code",
   "execution_count": 10,
   "metadata": {},
   "outputs": [],
   "source": [
    "columns = ['Name'] + ['AUC', 'Precision', 'Recall', 'F-score', 'Range-recall', 'ExistenceReward', 'OverlapReward', 'Range-precision', 'Range-Fscore', 'Precision@k', 'RangeAUC', 'Time', 'Number of Windows']\n",
    "df = pd.DataFrame(results, columns=columns)"
   ]
  },
  {
   "cell_type": "code",
   "execution_count": 11,
   "metadata": {},
   "outputs": [
    {
     "data": {
      "text/html": [
       "<div>\n",
       "<style scoped>\n",
       "    .dataframe tbody tr th:only-of-type {\n",
       "        vertical-align: middle;\n",
       "    }\n",
       "\n",
       "    .dataframe tbody tr th {\n",
       "        vertical-align: top;\n",
       "    }\n",
       "\n",
       "    .dataframe thead th {\n",
       "        text-align: right;\n",
       "    }\n",
       "</style>\n",
       "<table border=\"1\" class=\"dataframe\">\n",
       "  <thead>\n",
       "    <tr style=\"text-align: right;\">\n",
       "      <th></th>\n",
       "      <th>Name</th>\n",
       "      <th>AUC</th>\n",
       "      <th>Precision@k</th>\n",
       "      <th>Number of anomalies</th>\n",
       "      <th>Time</th>\n",
       "      <th>Number of Windows</th>\n",
       "    </tr>\n",
       "  </thead>\n",
       "  <tbody>\n",
       "    <tr>\n",
       "      <th>0</th>\n",
       "      <td>ECG1</td>\n",
       "      <td>0.853721</td>\n",
       "      <td>0.134944</td>\n",
       "      <td>21105.0</td>\n",
       "      <td>264.860036</td>\n",
       "      <td>229801</td>\n",
       "    </tr>\n",
       "    <tr>\n",
       "      <th>1</th>\n",
       "      <td>ECG1_20k</td>\n",
       "      <td>0.860271</td>\n",
       "      <td>0.291852</td>\n",
       "      <td>675.0</td>\n",
       "      <td>24.178400</td>\n",
       "      <td>19901</td>\n",
       "    </tr>\n",
       "    <tr>\n",
       "      <th>2</th>\n",
       "      <td>IOPS1</td>\n",
       "      <td>0.502774</td>\n",
       "      <td>0.004854</td>\n",
       "      <td>206.0</td>\n",
       "      <td>11.123778</td>\n",
       "      <td>8497</td>\n",
       "    </tr>\n",
       "    <tr>\n",
       "      <th>3</th>\n",
       "      <td>SMD1</td>\n",
       "      <td>0.368101</td>\n",
       "      <td>0.002598</td>\n",
       "      <td>2694.0</td>\n",
       "      <td>33.422409</td>\n",
       "      <td>28355</td>\n",
       "    </tr>\n",
       "    <tr>\n",
       "      <th>4</th>\n",
       "      <td>Occupancy1</td>\n",
       "      <td>0.741310</td>\n",
       "      <td>0.065844</td>\n",
       "      <td>972.0</td>\n",
       "      <td>3.136758</td>\n",
       "      <td>2541</td>\n",
       "    </tr>\n",
       "    <tr>\n",
       "      <th>5</th>\n",
       "      <td>ECG1+IOPS1</td>\n",
       "      <td>0.669168</td>\n",
       "      <td>0.000000</td>\n",
       "      <td>881.0</td>\n",
       "      <td>33.746802</td>\n",
       "      <td>28685</td>\n",
       "    </tr>\n",
       "    <tr>\n",
       "      <th>6</th>\n",
       "      <td>SMD1+Occupancy1</td>\n",
       "      <td>0.508252</td>\n",
       "      <td>0.032733</td>\n",
       "      <td>3666.0</td>\n",
       "      <td>36.661090</td>\n",
       "      <td>31020</td>\n",
       "    </tr>\n",
       "    <tr>\n",
       "      <th>7</th>\n",
       "      <td>ECG1+IOPS1+Occupancy1</td>\n",
       "      <td>0.750467</td>\n",
       "      <td>0.033999</td>\n",
       "      <td>1853.0</td>\n",
       "      <td>37.075293</td>\n",
       "      <td>31350</td>\n",
       "    </tr>\n",
       "    <tr>\n",
       "      <th>8</th>\n",
       "      <td>SMD1+ECG1+Occupancy1</td>\n",
       "      <td>0.646462</td>\n",
       "      <td>0.031790</td>\n",
       "      <td>4341.0</td>\n",
       "      <td>59.090078</td>\n",
       "      <td>51020</td>\n",
       "    </tr>\n",
       "    <tr>\n",
       "      <th>9</th>\n",
       "      <td>ECG1+IOPS1+SMD1+Occupancy1</td>\n",
       "      <td>0.600558</td>\n",
       "      <td>0.016494</td>\n",
       "      <td>4547.0</td>\n",
       "      <td>68.622697</td>\n",
       "      <td>59829</td>\n",
       "    </tr>\n",
       "  </tbody>\n",
       "</table>\n",
       "</div>"
      ],
      "text/plain": [
       "                         Name       AUC  Precision@k  Number of anomalies  \\\n",
       "0                        ECG1  0.853721     0.134944              21105.0   \n",
       "1                    ECG1_20k  0.860271     0.291852                675.0   \n",
       "2                       IOPS1  0.502774     0.004854                206.0   \n",
       "3                        SMD1  0.368101     0.002598               2694.0   \n",
       "4                  Occupancy1  0.741310     0.065844                972.0   \n",
       "5                  ECG1+IOPS1  0.669168     0.000000                881.0   \n",
       "6             SMD1+Occupancy1  0.508252     0.032733               3666.0   \n",
       "7       ECG1+IOPS1+Occupancy1  0.750467     0.033999               1853.0   \n",
       "8        SMD1+ECG1+Occupancy1  0.646462     0.031790               4341.0   \n",
       "9  ECG1+IOPS1+SMD1+Occupancy1  0.600558     0.016494               4547.0   \n",
       "\n",
       "         Time  Number of Windows  \n",
       "0  264.860036             229801  \n",
       "1   24.178400              19901  \n",
       "2   11.123778               8497  \n",
       "3   33.422409              28355  \n",
       "4    3.136758               2541  \n",
       "5   33.746802              28685  \n",
       "6   36.661090              31020  \n",
       "7   37.075293              31350  \n",
       "8   59.090078              51020  \n",
       "9   68.622697              59829  "
      ]
     },
     "execution_count": 11,
     "metadata": {},
     "output_type": "execute_result"
    }
   ],
   "source": [
    "df['Number of anomalies'] = df['Name'].apply(lambda x: np.sum(preprocessed_dict[x]['label']))\n",
    "df[['Name', 'AUC', 'Precision@k', 'Number of anomalies', 'Time', 'Number of Windows']]"
   ]
  },
  {
   "cell_type": "code",
   "execution_count": 12,
   "metadata": {},
   "outputs": [],
   "source": [
    "df.to_csv('Results/Variant_1/IsolationForest-results.csv', index=False)"
   ]
  },
  {
   "cell_type": "markdown",
   "metadata": {},
   "source": [
    "### ***STUMP***"
   ]
  },
  {
   "cell_type": "code",
   "execution_count": 13,
   "metadata": {},
   "outputs": [],
   "source": [
    "import stumpy\n",
    "modelName = 'STUMP'"
   ]
  },
  {
   "cell_type": "code",
   "execution_count": 54,
   "metadata": {},
   "outputs": [
    {
     "name": "stderr",
     "output_type": "stream",
     "text": [
      "Processing Batch: 100%|██████████| 1533/1533 [00:08<00:00, 175.40it/s]\n",
      "Processing Batch: 100%|██████████| 133/133 [00:00<00:00, 199.03it/s]\n",
      "Processing Batch: 100%|██████████| 57/57 [00:00<00:00, 147.36it/s]\n",
      "Processing Batch: 100%|██████████| 190/190 [00:01<00:00, 159.91it/s]\n",
      "Processing Batch: 100%|██████████| 17/17 [00:00<00:00, 135.93it/s]\n",
      "Processing Batch: 100%|██████████| 192/192 [00:01<00:00, 180.14it/s]\n",
      "Processing Batch: 100%|██████████| 207/207 [00:01<00:00, 155.14it/s]\n",
      "Processing Batch: 100%|██████████| 209/209 [00:01<00:00, 179.69it/s]]\n",
      "Processing Batch: 100%|██████████| 341/341 [00:01<00:00, 172.30it/s] \n",
      "Processing Batch: 100%|██████████| 399/399 [00:02<00:00, 188.20it/s]5s/it]\n",
      "ECG1+IOPS1+SMD1+Occupancy1: 100%|██████████| 10/10 [00:22<00:00,  2.29s/it]\n"
     ]
    }
   ],
   "source": [
    "results = []\n",
    "\n",
    "for name in (p := tqdm(preprocessed_dict.keys())):\n",
    "    p.set_description(name)\n",
    "    ts = preprocessed_dict[name]\n",
    "    window_size = ts['slidingWindow']\n",
    "    \n",
    "    k = 1\n",
    "    score = []\n",
    "    t0 = time()\n",
    "    for batch in tqdm(ts['batched_data'], desc='Processing Batch'):\n",
    "        score_ = stumpy.stump(T_A=batch, m=window_size, k=k, ignore_trivial=True, normalize=True)\n",
    "        score.extend(score_.T[k-1])\n",
    "    t1 = time()\n",
    "\n",
    "    # In some combinations of batch size and window size, windows overlap with all closest-distance candidates and cannot be scored.\n",
    "    # In this case, inf is returned. To fix this, any instances of infinite distances are replaced with zero distance.\n",
    "    score = [s if s != np.inf else 0 for s in score]\n",
    "    score = np.array(score)\n",
    "    score = MinMaxScaler(feature_range=(0,1)).fit_transform(score.reshape(-1,1)).ravel()\n",
    "    score = np.array([score[0]]*math.ceil((ts['slidingWindow']-1)/2) + list(score) + [score[-1]]*((ts['slidingWindow']-1)//2))\n",
    "    \n",
    "    L = printResult(ts['data'], ts['label'], score, ts['slidingWindow'], ts['name'], modelName)\n",
    "    results.append([name] + L + [t1-t0, len(x)])"
   ]
  },
  {
   "cell_type": "code",
   "execution_count": 55,
   "metadata": {},
   "outputs": [],
   "source": [
    "columns = ['Name'] + ['AUC', 'Precision', 'Recall', 'F-score', 'Range-recall', 'ExistenceReward', 'OverlapReward', 'Range-precision', 'Range-Fscore', 'Precision@k', 'RangeAUC', 'Time', 'Number of Windows']\n",
    "df = pd.DataFrame(results, columns=columns)"
   ]
  },
  {
   "cell_type": "code",
   "execution_count": 56,
   "metadata": {},
   "outputs": [
    {
     "data": {
      "text/html": [
       "<div>\n",
       "<style scoped>\n",
       "    .dataframe tbody tr th:only-of-type {\n",
       "        vertical-align: middle;\n",
       "    }\n",
       "\n",
       "    .dataframe tbody tr th {\n",
       "        vertical-align: top;\n",
       "    }\n",
       "\n",
       "    .dataframe thead th {\n",
       "        text-align: right;\n",
       "    }\n",
       "</style>\n",
       "<table border=\"1\" class=\"dataframe\">\n",
       "  <thead>\n",
       "    <tr style=\"text-align: right;\">\n",
       "      <th></th>\n",
       "      <th>Name</th>\n",
       "      <th>AUC</th>\n",
       "      <th>Precision@k</th>\n",
       "      <th>Number of anomalies</th>\n",
       "      <th>Time</th>\n",
       "      <th>Number of Windows</th>\n",
       "    </tr>\n",
       "  </thead>\n",
       "  <tbody>\n",
       "    <tr>\n",
       "      <th>0</th>\n",
       "      <td>ECG1</td>\n",
       "      <td>0.696418</td>\n",
       "      <td>0.0</td>\n",
       "      <td>21105.0</td>\n",
       "      <td>8.745840</td>\n",
       "      <td>59829</td>\n",
       "    </tr>\n",
       "    <tr>\n",
       "      <th>1</th>\n",
       "      <td>ECG1_20k</td>\n",
       "      <td>0.689407</td>\n",
       "      <td>0.0</td>\n",
       "      <td>675.0</td>\n",
       "      <td>0.672401</td>\n",
       "      <td>59829</td>\n",
       "    </tr>\n",
       "    <tr>\n",
       "      <th>2</th>\n",
       "      <td>IOPS1</td>\n",
       "      <td>0.596923</td>\n",
       "      <td>0.0</td>\n",
       "      <td>206.0</td>\n",
       "      <td>0.389822</td>\n",
       "      <td>59829</td>\n",
       "    </tr>\n",
       "    <tr>\n",
       "      <th>3</th>\n",
       "      <td>SMD1</td>\n",
       "      <td>0.556622</td>\n",
       "      <td>0.0</td>\n",
       "      <td>2694.0</td>\n",
       "      <td>1.192813</td>\n",
       "      <td>59829</td>\n",
       "    </tr>\n",
       "    <tr>\n",
       "      <th>4</th>\n",
       "      <td>Occupancy1</td>\n",
       "      <td>0.186049</td>\n",
       "      <td>0.0</td>\n",
       "      <td>972.0</td>\n",
       "      <td>0.129206</td>\n",
       "      <td>59829</td>\n",
       "    </tr>\n",
       "    <tr>\n",
       "      <th>5</th>\n",
       "      <td>ECG1+IOPS1</td>\n",
       "      <td>0.708663</td>\n",
       "      <td>0.0</td>\n",
       "      <td>881.0</td>\n",
       "      <td>1.068098</td>\n",
       "      <td>59829</td>\n",
       "    </tr>\n",
       "    <tr>\n",
       "      <th>6</th>\n",
       "      <td>SMD1+Occupancy1</td>\n",
       "      <td>0.441063</td>\n",
       "      <td>0.0</td>\n",
       "      <td>3666.0</td>\n",
       "      <td>1.336303</td>\n",
       "      <td>59829</td>\n",
       "    </tr>\n",
       "    <tr>\n",
       "      <th>7</th>\n",
       "      <td>ECG1+IOPS1+Occupancy1</td>\n",
       "      <td>0.499768</td>\n",
       "      <td>0.0</td>\n",
       "      <td>1853.0</td>\n",
       "      <td>1.167147</td>\n",
       "      <td>59829</td>\n",
       "    </tr>\n",
       "    <tr>\n",
       "      <th>8</th>\n",
       "      <td>SMD1+ECG1+Occupancy1</td>\n",
       "      <td>0.542541</td>\n",
       "      <td>0.0</td>\n",
       "      <td>4341.0</td>\n",
       "      <td>1.983109</td>\n",
       "      <td>59829</td>\n",
       "    </tr>\n",
       "    <tr>\n",
       "      <th>9</th>\n",
       "      <td>ECG1+IOPS1+SMD1+Occupancy1</td>\n",
       "      <td>0.525118</td>\n",
       "      <td>0.0</td>\n",
       "      <td>4547.0</td>\n",
       "      <td>2.123133</td>\n",
       "      <td>59829</td>\n",
       "    </tr>\n",
       "  </tbody>\n",
       "</table>\n",
       "</div>"
      ],
      "text/plain": [
       "                         Name       AUC  Precision@k  Number of anomalies  \\\n",
       "0                        ECG1  0.696418          0.0              21105.0   \n",
       "1                    ECG1_20k  0.689407          0.0                675.0   \n",
       "2                       IOPS1  0.596923          0.0                206.0   \n",
       "3                        SMD1  0.556622          0.0               2694.0   \n",
       "4                  Occupancy1  0.186049          0.0                972.0   \n",
       "5                  ECG1+IOPS1  0.708663          0.0                881.0   \n",
       "6             SMD1+Occupancy1  0.441063          0.0               3666.0   \n",
       "7       ECG1+IOPS1+Occupancy1  0.499768          0.0               1853.0   \n",
       "8        SMD1+ECG1+Occupancy1  0.542541          0.0               4341.0   \n",
       "9  ECG1+IOPS1+SMD1+Occupancy1  0.525118          0.0               4547.0   \n",
       "\n",
       "       Time  Number of Windows  \n",
       "0  8.745840              59829  \n",
       "1  0.672401              59829  \n",
       "2  0.389822              59829  \n",
       "3  1.192813              59829  \n",
       "4  0.129206              59829  \n",
       "5  1.068098              59829  \n",
       "6  1.336303              59829  \n",
       "7  1.167147              59829  \n",
       "8  1.983109              59829  \n",
       "9  2.123133              59829  "
      ]
     },
     "execution_count": 56,
     "metadata": {},
     "output_type": "execute_result"
    }
   ],
   "source": [
    "df['Number of anomalies'] = df['Name'].apply(lambda x: np.sum(preprocessed_dict[x]['label']))\n",
    "df[['Name', 'AUC', 'Precision@k', 'Number of anomalies', 'Time', 'Number of Windows']]"
   ]
  },
  {
   "cell_type": "code",
   "execution_count": 57,
   "metadata": {},
   "outputs": [],
   "source": [
    "df.to_csv('Results/Variant_1/STUMP-results.csv', index=False)"
   ]
  },
  {
   "cell_type": "code",
   "execution_count": null,
   "metadata": {},
   "outputs": [],
   "source": []
  }
 ],
 "metadata": {
  "kernelspec": {
   "display_name": "Python 3 (ipykernel)",
   "language": "python",
   "name": "python3"
  },
  "language_info": {
   "codemirror_mode": {
    "name": "ipython",
    "version": 3
   },
   "file_extension": ".py",
   "mimetype": "text/x-python",
   "name": "python",
   "nbconvert_exporter": "python",
   "pygments_lexer": "ipython3",
   "version": "3.8.19"
  }
 },
 "nbformat": 4,
 "nbformat_minor": 4
}
