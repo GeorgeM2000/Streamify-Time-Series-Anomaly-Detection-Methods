{
 "cells": [
  {
   "cell_type": "markdown",
   "metadata": {},
   "source": [
    "# ***Libraries***"
   ]
  },
  {
   "cell_type": "code",
   "execution_count": 1,
   "metadata": {},
   "outputs": [],
   "source": [
    "import math\n",
    "import os\n",
    "import sys\n",
    "import json\n",
    "\n",
    "import matplotlib.pyplot as plt\n",
    "import pandas as pd\n",
    "import numpy as np\n",
    "\n",
    "from sklearn.preprocessing import MinMaxScaler"
   ]
  },
  {
   "cell_type": "code",
   "execution_count": 2,
   "metadata": {},
   "outputs": [],
   "source": [
    "parent_dir = os.path.abspath(os.path.join(os.getcwd(), os.pardir))"
   ]
  },
  {
   "cell_type": "code",
   "execution_count": 3,
   "metadata": {},
   "outputs": [],
   "source": [
    "sys.path.append(parent_dir)"
   ]
  },
  {
   "cell_type": "code",
   "execution_count": 4,
   "metadata": {},
   "outputs": [],
   "source": [
    "from TSB_UAD.models.distance import Fourier\n",
    "from TSB_UAD.models.feature import Window\n",
    "from TSB_UAD.utils.slidingWindows import find_length, plotFig, printResult\n",
    "\n",
    "from TSB_UAD.models.iforest import IForest"
   ]
  },
  {
   "cell_type": "markdown",
   "metadata": {},
   "source": [
    "# ***Naive-Streaming Methods***\n",
    "TODO: Add comments"
   ]
  },
  {
   "cell_type": "markdown",
   "metadata": {},
   "source": [
    "## ***Data Pre-Processing***"
   ]
  },
  {
   "cell_type": "code",
   "execution_count": 5,
   "metadata": {},
   "outputs": [],
   "source": [
    "# Load the Time-Series dictionary\n",
    "with open('Time-Series-Data-Dictionary.json', 'r') as json_file:\n",
    "    loaded_dict = json.load(json_file)"
   ]
  },
  {
   "cell_type": "code",
   "execution_count": 6,
   "metadata": {},
   "outputs": [
    {
     "name": "stdout",
     "output_type": "stream",
     "text": [
      "ts1: ['Normality_1', 'MGAB']\n",
      "ts2: ['Normality_2', 'SVDB', 'Dodgers']\n",
      "ts3: ['Normality_2', 'SMD', 'Dodgers']\n",
      "ts4: ['Normality_1', 'Daphnet']\n",
      "ts5: ['Normality_1', 'NAB']\n",
      "ts6: ['Normality_2', 'KDD21', 'GHL']\n",
      "ts7: ['Normality_3', 'MITDB', 'IOPS', 'Occupancy']\n",
      "ts8: ['Normality_1', 'ECG']\n",
      "ts9: ['Normality_1', 'NASA-MSL']\n",
      "ts10: ['Normality_2', 'Occupancy', 'NAB']\n",
      "ts11: ['Normality_3', 'SVDB', 'IOPS', 'Occupancy']\n",
      "ts12: ['Normality_3', 'Genesis', 'IOPS', 'SensorScope']\n",
      "ts13: ['Normality_3', 'Occupancy', 'Dodgers', 'SensorScope']\n",
      "ts14: ['Normality_2', 'GHL', 'SMD']\n",
      "ts15: ['Normality_3', 'SVDB', 'ECG', 'SensorScope']\n"
     ]
    }
   ],
   "source": [
    "for filename, info in loaded_dict.items():\n",
    "    print(f'{filename}: {info}')"
   ]
  },
  {
   "cell_type": "code",
   "execution_count": 7,
   "metadata": {},
   "outputs": [],
   "source": [
    "preprocessed_dict = {}"
   ]
  },
  {
   "cell_type": "code",
   "execution_count": 8,
   "metadata": {},
   "outputs": [
    {
     "name": "stdout",
     "output_type": "stream",
     "text": [
      "Time-Series filename: ts1\n",
      "Estimated Subsequence length:  125\n",
      "\n",
      "Time-Series filename: ts2\n",
      "Estimated Subsequence length:  125\n",
      "\n",
      "Time-Series filename: ts3\n",
      "Estimated Subsequence length:  125\n",
      "\n",
      "Time-Series filename: ts4\n",
      "Estimated Subsequence length:  24\n",
      "\n",
      "Time-Series filename: ts5\n",
      "Estimated Subsequence length:  125\n",
      "\n",
      "Time-Series filename: ts6\n",
      "Estimated Subsequence length:  125\n",
      "\n",
      "Time-Series filename: ts7\n",
      "Estimated Subsequence length:  24\n",
      "\n",
      "Time-Series filename: ts8\n",
      "Estimated Subsequence length:  122\n",
      "\n",
      "Time-Series filename: ts9\n",
      "Estimated Subsequence length:  125\n",
      "\n",
      "Time-Series filename: ts10\n",
      "Estimated Subsequence length:  125\n",
      "\n",
      "Time-Series filename: ts11\n",
      "Estimated Subsequence length:  72\n",
      "\n",
      "Time-Series filename: ts12\n",
      "Estimated Subsequence length:  125\n",
      "\n",
      "Time-Series filename: ts13\n",
      "Estimated Subsequence length:  88\n",
      "\n",
      "Time-Series filename: ts14\n",
      "Estimated Subsequence length:  288\n",
      "\n",
      "Time-Series filename: ts15\n",
      "Estimated Subsequence length:  36\n",
      "\n"
     ]
    }
   ],
   "source": [
    "from more_itertools import chunked\n",
    "\n",
    "# Set the number of windows to be fit per batch.\n",
    "windows_per_batch = 200\n",
    "\n",
    "for filename, info in loaded_dict.items():\n",
    "    ts_filepath = f\"TS-Data-Files/{filename}\"\n",
    "    \n",
    "    # === Pre-processing steps ===\n",
    "\n",
    "    # Prepare data for unsupervised method\n",
    "    ts = pd.read_csv(ts_filepath, header=None).dropna().to_numpy()\n",
    "\n",
    "    name = ts_filepath.split('/')[-1]\n",
    "    max_length = ts.shape[0]\n",
    "\n",
    "    data = ts[:max_length, 0].astype(float)\n",
    "    label = ts[:max_length, 1]\n",
    "\n",
    "    slidingWindow = find_length(data)\n",
    "    X_data = Window(window=slidingWindow).convert(data).to_numpy()\n",
    "\n",
    "    # Take the series and batch it.\n",
    "    batched_data = []\n",
    "    i = 0\n",
    "    while i < len(data):\n",
    "        # print(len(data), i, i+slidingWindow+windows_per_batch, len(data[i:i+slidingWindow+windows_per_batch]))\n",
    "        batched_data.append(data[i:i+slidingWindow+windows_per_batch - 1])\n",
    "        i += windows_per_batch\n",
    "        if i+slidingWindow+windows_per_batch > len(data):\n",
    "            batched_data.append(data[i:min(i+slidingWindow+windows_per_batch - 1, len(data))])\n",
    "            # print('end', len(data), i, i+slidingWindow+windows_per_batch, len(data[i:i+slidingWindow+windows_per_batch]))\n",
    "            break\n",
    "        # print(len(data), i, i+slidingWindow+windows_per_batch, len(data[i:i+slidingWindow+windows_per_batch]))\n",
    "\n",
    "        \n",
    "    # Take the windows and batch them.\n",
    "    batched_X_data = [np.array(list(batch)) for batch in chunked(X_data, windows_per_batch)]\n",
    "\n",
    "    # Prepare data for semisupervised method. \n",
    "    # Here, the training ratio = 0.1\n",
    "\n",
    "    data_train = data[:int(0.1 * len(data))]\n",
    "    data_test = data\n",
    "\n",
    "    X_train = Window(window=slidingWindow).convert(data_train).to_numpy()\n",
    "    X_test = Window(window=slidingWindow).convert(data_test).to_numpy()\n",
    "\n",
    "    print(f'Time-Series filename: {filename}')\n",
    "    print(\"Estimated Subsequence length: \", slidingWindow)\n",
    "    print()\n",
    "    \n",
    "    # Store the pre-processed variables in the new dictionary\n",
    "    preprocessed_dict[filename] = {\n",
    "        'name': name,\n",
    "        'data': data,\n",
    "        'batched_data': batched_data,\n",
    "        'label': label,\n",
    "        'slidingWindow': slidingWindow,\n",
    "        'X_data': X_data,\n",
    "        'batched_X_data': batched_X_data,\n",
    "        'data_train': data_train,\n",
    "        'data_test': data_test,\n",
    "        'X_train': X_train,\n",
    "        'X_test': X_test,\n",
    "        'Time series length': len(data),\n",
    "        'Number of abnormal points': list(label).count(1)\n",
    "    }"
   ]
  },
  {
   "cell_type": "code",
   "execution_count": 9,
   "metadata": {},
   "outputs": [
    {
     "data": {
      "text/plain": [
       "32"
      ]
     },
     "execution_count": 9,
     "metadata": {},
     "output_type": "execute_result"
    }
   ],
   "source": [
    "len(preprocessed_dict['ts1']['batched_X_data'][-1])"
   ]
  },
  {
   "cell_type": "code",
   "execution_count": 10,
   "metadata": {},
   "outputs": [
    {
     "data": {
      "text/plain": [
       "156"
      ]
     },
     "execution_count": 10,
     "metadata": {},
     "output_type": "execute_result"
    }
   ],
   "source": [
    "len(preprocessed_dict['ts1']['batched_data'][-1])"
   ]
  },
  {
   "cell_type": "code",
   "execution_count": 11,
   "metadata": {},
   "outputs": [
    {
     "data": {
      "text/plain": [
       "130"
      ]
     },
     "execution_count": 11,
     "metadata": {},
     "output_type": "execute_result"
    }
   ],
   "source": [
    "65+65"
   ]
  },
  {
   "cell_type": "code",
   "execution_count": 12,
   "metadata": {},
   "outputs": [
    {
     "data": {
      "image/png": "[encoded data removed]",
      "text/plain": [
       "<Figure size 1000x500 with 1 Axes>"
      ]
     },
     "metadata": {},
     "output_type": "display_data"
    }
   ],
   "source": [
    "# Get filenames, time series lengths, and number of abnormal points\n",
    "filenames = list(preprocessed_dict.keys())\n",
    "time_series_lengths = [data['Time series length'] for data in preprocessed_dict.values()]\n",
    "number_of_abnormal_points = [data['Number of abnormal points'] for data in preprocessed_dict.values()]\n",
    "\n",
    "# Plot 'Time series length' and 'Number of abnormal points' for each filename\n",
    "plt.figure(figsize=(10, 5))\n",
    "plt.plot(filenames, time_series_lengths, marker='o', linestyle='-', color='skyblue')\n",
    "plt.xlabel('Filename')\n",
    "plt.ylabel('Time series length')\n",
    "plt.title('Time Series Length for Each Filename')\n",
    "plt.xticks(rotation=45, ha='right')\n",
    "plt.grid(axis='y', linestyle='--', alpha=0.7)\n",
    "plt.tight_layout()\n",
    "plt.show()"
   ]
  },
  {
   "cell_type": "code",
   "execution_count": 13,
   "metadata": {},
   "outputs": [
    {
     "data": {
      "image/png": "[encoded data removed]",
      "text/plain": [
       "<Figure size 1000x500 with 1 Axes>"
      ]
     },
     "metadata": {},
     "output_type": "display_data"
    }
   ],
   "source": [
    "plt.figure(figsize=(10, 5))\n",
    "plt.plot(filenames, number_of_abnormal_points, marker='o', linestyle='-', color='lightgreen')\n",
    "plt.xlabel('Filename')\n",
    "plt.ylabel('Number of abnormal points')\n",
    "plt.title('Number of Abnormal Points for Each Filename')\n",
    "plt.xticks(rotation=45, ha='right')\n",
    "plt.grid(axis='y', linestyle='--', alpha=0.7)\n",
    "plt.tight_layout()\n",
    "plt.show()"
   ]
  },
  {
   "cell_type": "markdown",
   "metadata": {},
   "source": [
    "## ***Anomaly Detection***"
   ]
  },
  {
   "cell_type": "markdown",
   "metadata": {},
   "source": [
    "### ***Isolation Forest***"
   ]
  },
  {
   "cell_type": "code",
   "execution_count": 14,
   "metadata": {},
   "outputs": [],
   "source": [
    "from tqdm.notebook import tqdm_notebook as tqdm\n",
    "\n",
    "modelName = 'IForest'\n",
    "clf = IForest(n_jobs=10)"
   ]
  },
  {
   "cell_type": "code",
   "execution_count": 15,
   "metadata": {},
   "outputs": [
    {
     "data": {
      "application/json": {
       "ascii": false,
       "bar_format": null,
       "colour": null,
       "elapsed": 0.003999471664428711,
       "initial": 0,
       "n": 0,
       "ncols": null,
       "nrows": null,
       "postfix": null,
       "prefix": "Processing Time Series",
       "rate": null,
       "total": 15,
       "unit": "it",
       "unit_divisor": 1000,
       "unit_scale": false
      },
      "application/vnd.jupyter.widget-view+json": {
       "model_id": "5f8aca90529744bc906cdfb875f9da42",
       "version_major": 2,
       "version_minor": 0
      },
      "text/plain": [
       "Processing Time Series:   0%|          | 0/15 [00:00<?, ?it/s]"
      ]
     },
     "metadata": {},
     "output_type": "display_data"
    },
    {
     "data": {
      "application/json": {
       "ascii": false,
       "bar_format": null,
       "colour": null,
       "elapsed": 0.004174947738647461,
       "initial": 0,
       "n": 0,
       "ncols": null,
       "nrows": null,
       "postfix": null,
       "prefix": "Processing Batch",
       "rate": null,
       "total": 152,
       "unit": "it",
       "unit_divisor": 1000,
       "unit_scale": false
      },
      "application/vnd.jupyter.widget-view+json": {
       "model_id": "78db9c2dd1be49a7ba31a4b5ddaedfe7",
       "version_major": 2,
       "version_minor": 0
      },
      "text/plain": [
       "Processing Batch:   0%|          | 0/152 [00:00<?, ?it/s]"
      ]
     },
     "metadata": {},
     "output_type": "display_data"
    },
    {
     "data": {
      "application/json": {
       "ascii": false,
       "bar_format": null,
       "colour": null,
       "elapsed": 0.00400233268737793,
       "initial": 0,
       "n": 0,
       "ncols": null,
       "nrows": null,
       "postfix": null,
       "prefix": "Processing Batch",
       "rate": null,
       "total": 231,
       "unit": "it",
       "unit_divisor": 1000,
       "unit_scale": false
      },
      "application/vnd.jupyter.widget-view+json": {
       "model_id": "617c053b5164498dbe635e5d215af270",
       "version_major": 2,
       "version_minor": 0
      },
      "text/plain": [
       "Processing Batch:   0%|          | 0/231 [00:00<?, ?it/s]"
      ]
     },
     "metadata": {},
     "output_type": "display_data"
    },
    {
     "data": {
      "application/json": {
       "ascii": false,
       "bar_format": null,
       "colour": null,
       "elapsed": 0.005150556564331055,
       "initial": 0,
       "n": 0,
       "ncols": null,
       "nrows": null,
       "postfix": null,
       "prefix": "Processing Batch",
       "rate": null,
       "total": 30,
       "unit": "it",
       "unit_divisor": 1000,
       "unit_scale": false
      },
      "application/vnd.jupyter.widget-view+json": {
       "model_id": "60f9a5b0d03f4905b5cfc93f5c4bf67e",
       "version_major": 2,
       "version_minor": 0
      },
      "text/plain": [
       "Processing Batch:   0%|          | 0/30 [00:00<?, ?it/s]"
      ]
     },
     "metadata": {},
     "output_type": "display_data"
    },
    {
     "data": {
      "application/json": {
       "ascii": false,
       "bar_format": null,
       "colour": null,
       "elapsed": 0.0029997825622558594,
       "initial": 0,
       "n": 0,
       "ncols": null,
       "nrows": null,
       "postfix": null,
       "prefix": "Processing Batch",
       "rate": null,
       "total": 9,
       "unit": "it",
       "unit_divisor": 1000,
       "unit_scale": false
      },
      "application/vnd.jupyter.widget-view+json": {
       "model_id": "0e44d071ab6242be84fea77d2a54dcf5",
       "version_major": 2,
       "version_minor": 0
      },
      "text/plain": [
       "Processing Batch:   0%|          | 0/9 [00:00<?, ?it/s]"
      ]
     },
     "metadata": {},
     "output_type": "display_data"
    },
    {
     "data": {
      "application/json": {
       "ascii": false,
       "bar_format": null,
       "colour": null,
       "elapsed": 0.0030007362365722656,
       "initial": 0,
       "n": 0,
       "ncols": null,
       "nrows": null,
       "postfix": null,
       "prefix": "Processing Batch",
       "rate": null,
       "total": 144,
       "unit": "it",
       "unit_divisor": 1000,
       "unit_scale": false
      },
      "application/vnd.jupyter.widget-view+json": {
       "model_id": "4baa9c04a14c4c04ba632ef5a9a7c236",
       "version_major": 2,
       "version_minor": 0
      },
      "text/plain": [
       "Processing Batch:   0%|          | 0/144 [00:00<?, ?it/s]"
      ]
     },
     "metadata": {},
     "output_type": "display_data"
    },
    {
     "data": {
      "application/json": {
       "ascii": false,
       "bar_format": null,
       "colour": null,
       "elapsed": 0.003103971481323242,
       "initial": 0,
       "n": 0,
       "ncols": null,
       "nrows": null,
       "postfix": null,
       "prefix": "Processing Batch",
       "rate": null,
       "total": 167,
       "unit": "it",
       "unit_divisor": 1000,
       "unit_scale": false
      },
      "application/vnd.jupyter.widget-view+json": {
       "model_id": "4bfd7dbcc1b64ebd9b3387e34c75f361",
       "version_major": 2,
       "version_minor": 0
      },
      "text/plain": [
       "Processing Batch:   0%|          | 0/167 [00:00<?, ?it/s]"
      ]
     },
     "metadata": {},
     "output_type": "display_data"
    },
    {
     "data": {
      "application/json": {
       "ascii": false,
       "bar_format": null,
       "colour": null,
       "elapsed": 0.003997087478637695,
       "initial": 0,
       "n": 0,
       "ncols": null,
       "nrows": null,
       "postfix": null,
       "prefix": "Processing Batch",
       "rate": null,
       "total": 183,
       "unit": "it",
       "unit_divisor": 1000,
       "unit_scale": false
      },
      "application/vnd.jupyter.widget-view+json": {
       "model_id": "6cd662bfaca242578605d602a09ab52e",
       "version_major": 2,
       "version_minor": 0
      },
      "text/plain": [
       "Processing Batch:   0%|          | 0/183 [00:00<?, ?it/s]"
      ]
     },
     "metadata": {},
     "output_type": "display_data"
    },
    {
     "data": {
      "application/json": {
       "ascii": false,
       "bar_format": null,
       "colour": null,
       "elapsed": 0.0041201114654541016,
       "initial": 0,
       "n": 0,
       "ncols": null,
       "nrows": null,
       "postfix": null,
       "prefix": "Processing Batch",
       "rate": null,
       "total": 143,
       "unit": "it",
       "unit_divisor": 1000,
       "unit_scale": false
      },
      "application/vnd.jupyter.widget-view+json": {
       "model_id": "5732135ef81c42028f269c8bba065560",
       "version_major": 2,
       "version_minor": 0
      },
      "text/plain": [
       "Processing Batch:   0%|          | 0/143 [00:00<?, ?it/s]"
      ]
     },
     "metadata": {},
     "output_type": "display_data"
    },
    {
     "data": {
      "application/json": {
       "ascii": false,
       "bar_format": null,
       "colour": null,
       "elapsed": 0.003995656967163086,
       "initial": 0,
       "n": 0,
       "ncols": null,
       "nrows": null,
       "postfix": null,
       "prefix": "Processing Batch",
       "rate": null,
       "total": 71,
       "unit": "it",
       "unit_divisor": 1000,
       "unit_scale": false
      },
      "application/vnd.jupyter.widget-view+json": {
       "model_id": "672b923cba914087afab0192b739e35d",
       "version_major": 2,
       "version_minor": 0
      },
      "text/plain": [
       "Processing Batch:   0%|          | 0/71 [00:00<?, ?it/s]"
      ]
     },
     "metadata": {},
     "output_type": "display_data"
    },
    {
     "data": {
      "application/json": {
       "ascii": false,
       "bar_format": null,
       "colour": null,
       "elapsed": 0.003770112991333008,
       "initial": 0,
       "n": 0,
       "ncols": null,
       "nrows": null,
       "postfix": null,
       "prefix": "Processing Batch",
       "rate": null,
       "total": 142,
       "unit": "it",
       "unit_divisor": 1000,
       "unit_scale": false
      },
      "application/vnd.jupyter.widget-view+json": {
       "model_id": "25fdefa4b0d64f8988ff0d3293f19bfc",
       "version_major": 2,
       "version_minor": 0
      },
      "text/plain": [
       "Processing Batch:   0%|          | 0/142 [00:00<?, ?it/s]"
      ]
     },
     "metadata": {},
     "output_type": "display_data"
    },
    {
     "data": {
      "application/json": {
       "ascii": false,
       "bar_format": null,
       "colour": null,
       "elapsed": 0.0030014514923095703,
       "initial": 0,
       "n": 0,
       "ncols": null,
       "nrows": null,
       "postfix": null,
       "prefix": "Processing Batch",
       "rate": null,
       "total": 13,
       "unit": "it",
       "unit_divisor": 1000,
       "unit_scale": false
      },
      "application/vnd.jupyter.widget-view+json": {
       "model_id": "c9a27936a18b40e9b9360f893c06c610",
       "version_major": 2,
       "version_minor": 0
      },
      "text/plain": [
       "Processing Batch:   0%|          | 0/13 [00:00<?, ?it/s]"
      ]
     },
     "metadata": {},
     "output_type": "display_data"
    },
    {
     "data": {
      "application/json": {
       "ascii": false,
       "bar_format": null,
       "colour": null,
       "elapsed": 0.0030002593994140625,
       "initial": 0,
       "n": 0,
       "ncols": null,
       "nrows": null,
       "postfix": null,
       "prefix": "Processing Batch",
       "rate": null,
       "total": 307,
       "unit": "it",
       "unit_divisor": 1000,
       "unit_scale": false
      },
      "application/vnd.jupyter.widget-view+json": {
       "model_id": "26b0ed5083944d6794a97dea66032845",
       "version_major": 2,
       "version_minor": 0
      },
      "text/plain": [
       "Processing Batch:   0%|          | 0/307 [00:00<?, ?it/s]"
      ]
     },
     "metadata": {},
     "output_type": "display_data"
    },
    {
     "data": {
      "application/json": {
       "ascii": false,
       "bar_format": null,
       "colour": null,
       "elapsed": 0.002999544143676758,
       "initial": 0,
       "n": 0,
       "ncols": null,
       "nrows": null,
       "postfix": null,
       "prefix": "Processing Batch",
       "rate": null,
       "total": 1176,
       "unit": "it",
       "unit_divisor": 1000,
       "unit_scale": false
      },
      "application/vnd.jupyter.widget-view+json": {
       "model_id": "803064655bcc4312b04581fa8563c2e1",
       "version_major": 2,
       "version_minor": 0
      },
      "text/plain": [
       "Processing Batch:   0%|          | 0/1176 [00:00<?, ?it/s]"
      ]
     },
     "metadata": {},
     "output_type": "display_data"
    },
    {
     "data": {
      "application/json": {
       "ascii": false,
       "bar_format": null,
       "colour": null,
       "elapsed": 0.004101991653442383,
       "initial": 0,
       "n": 0,
       "ncols": null,
       "nrows": null,
       "postfix": null,
       "prefix": "Processing Batch",
       "rate": null,
       "total": 43,
       "unit": "it",
       "unit_divisor": 1000,
       "unit_scale": false
      },
      "application/vnd.jupyter.widget-view+json": {
       "model_id": "904f9f71d0b148dda285fe970d16c85b",
       "version_major": 2,
       "version_minor": 0
      },
      "text/plain": [
       "Processing Batch:   0%|          | 0/43 [00:00<?, ?it/s]"
      ]
     },
     "metadata": {},
     "output_type": "display_data"
    },
    {
     "data": {
      "application/json": {
       "ascii": false,
       "bar_format": null,
       "colour": null,
       "elapsed": 0.004101991653442383,
       "initial": 0,
       "n": 0,
       "ncols": null,
       "nrows": null,
       "postfix": null,
       "prefix": "Processing Batch",
       "rate": null,
       "total": 126,
       "unit": "it",
       "unit_divisor": 1000,
       "unit_scale": false
      },
      "application/vnd.jupyter.widget-view+json": {
       "model_id": "3abb9140208e4ceb80cf7321c6605f04",
       "version_major": 2,
       "version_minor": 0
      },
      "text/plain": [
       "Processing Batch:   0%|          | 0/126 [00:00<?, ?it/s]"
      ]
     },
     "metadata": {},
     "output_type": "display_data"
    }
   ],
   "source": [
    "results = []\n",
    "\n",
    "for filename in tqdm(preprocessed_dict.keys(), desc='Processing Time Series'):\n",
    "    ts = preprocessed_dict[filename]\n",
    "    x = ts['X_data']\n",
    "    \n",
    "    score = []\n",
    "    for batch in tqdm(ts['batched_X_data'], desc='Processing Batch'):\n",
    "        clf.fit(batch)\n",
    "        score.extend(clf.decision_scores_)\n",
    "    \n",
    "    score = np.array(score)\n",
    "    score = MinMaxScaler(feature_range=(0,1)).fit_transform(score.reshape(-1,1)).ravel()\n",
    "    score = np.array([score[0]]*math.ceil((ts['slidingWindow']-1)/2) + list(score) + [score[-1]]*((ts['slidingWindow']-1)//2))\n",
    "    \n",
    "    L = printResult(ts['data'], ts['label'], score, ts['slidingWindow'], ts['name'], modelName)\n",
    "    results.append([filename] + L)"
   ]
  },
  {
   "cell_type": "code",
   "execution_count": 16,
   "metadata": {},
   "outputs": [],
   "source": [
    "# columns = ['Filename'] + [f'Metric_{i+1}' for i in range(len(results[0])-1)]\n",
    "columns = ['Filename'] + ['AUC', 'Precision', 'Recall', 'F-score', 'Range-recall', 'ExistenceReward', 'OverlapReward', 'Range-precision', 'Range-Fscore', 'Precison@k', 'RangeAUC']\n",
    "df = pd.DataFrame(results, columns=columns)"
   ]
  },
  {
   "cell_type": "code",
   "execution_count": 17,
   "metadata": {},
   "outputs": [
    {
     "data": {
      "text/html": [
       "<div>\n",
       "<style scoped>\n",
       "    .dataframe tbody tr th:only-of-type {\n",
       "        vertical-align: middle;\n",
       "    }\n",
       "\n",
       "    .dataframe tbody tr th {\n",
       "        vertical-align: top;\n",
       "    }\n",
       "\n",
       "    .dataframe thead th {\n",
       "        text-align: right;\n",
       "    }\n",
       "</style>\n",
       "<table border=\"1\" class=\"dataframe\">\n",
       "  <thead>\n",
       "    <tr style=\"text-align: right;\">\n",
       "      <th></th>\n",
       "      <th>Filename</th>\n",
       "      <th>AUC</th>\n",
       "      <th>Precision</th>\n",
       "      <th>Recall</th>\n",
       "      <th>F-score</th>\n",
       "      <th>Range-recall</th>\n",
       "      <th>ExistenceReward</th>\n",
       "      <th>OverlapReward</th>\n",
       "      <th>Range-precision</th>\n",
       "      <th>Range-Fscore</th>\n",
       "      <th>Precison@k</th>\n",
       "      <th>RangeAUC</th>\n",
       "    </tr>\n",
       "  </thead>\n",
       "  <tbody>\n",
       "    <tr>\n",
       "      <th>0</th>\n",
       "      <td>ts1</td>\n",
       "      <td>0.539670</td>\n",
       "      <td>0.300000</td>\n",
       "      <td>0.011051</td>\n",
       "      <td>0.021316</td>\n",
       "      <td>0.207948</td>\n",
       "      <td>1.000000</td>\n",
       "      <td>0.009935</td>\n",
       "      <td>0.287356</td>\n",
       "      <td>0.241287</td>\n",
       "      <td>0.011051</td>\n",
       "      <td>0.605383</td>\n",
       "    </tr>\n",
       "    <tr>\n",
       "      <th>1</th>\n",
       "      <td>ts2</td>\n",
       "      <td>0.562772</td>\n",
       "      <td>0.287162</td>\n",
       "      <td>0.010164</td>\n",
       "      <td>0.019633</td>\n",
       "      <td>0.154629</td>\n",
       "      <td>0.750000</td>\n",
       "      <td>0.005787</td>\n",
       "      <td>0.292135</td>\n",
       "      <td>0.202221</td>\n",
       "      <td>0.010164</td>\n",
       "      <td>0.623820</td>\n",
       "    </tr>\n",
       "    <tr>\n",
       "      <th>2</th>\n",
       "      <td>ts3</td>\n",
       "      <td>0.944227</td>\n",
       "      <td>0.238095</td>\n",
       "      <td>0.165746</td>\n",
       "      <td>0.195440</td>\n",
       "      <td>0.244199</td>\n",
       "      <td>1.000000</td>\n",
       "      <td>0.055249</td>\n",
       "      <td>0.333333</td>\n",
       "      <td>0.281888</td>\n",
       "      <td>0.165746</td>\n",
       "      <td>0.858828</td>\n",
       "    </tr>\n",
       "    <tr>\n",
       "      <th>3</th>\n",
       "      <td>ts4</td>\n",
       "      <td>0.539069</td>\n",
       "      <td>0.000000</td>\n",
       "      <td>0.000000</td>\n",
       "      <td>0.000000</td>\n",
       "      <td>0.000000</td>\n",
       "      <td>0.000000</td>\n",
       "      <td>0.000000</td>\n",
       "      <td>0.000000</td>\n",
       "      <td>0.000000</td>\n",
       "      <td>0.000000</td>\n",
       "      <td>0.723467</td>\n",
       "    </tr>\n",
       "    <tr>\n",
       "      <th>4</th>\n",
       "      <td>ts5</td>\n",
       "      <td>0.521828</td>\n",
       "      <td>0.123016</td>\n",
       "      <td>0.025963</td>\n",
       "      <td>0.042877</td>\n",
       "      <td>0.104633</td>\n",
       "      <td>0.454545</td>\n",
       "      <td>0.017155</td>\n",
       "      <td>0.129825</td>\n",
       "      <td>0.115875</td>\n",
       "      <td>0.025963</td>\n",
       "      <td>0.719034</td>\n",
       "    </tr>\n",
       "    <tr>\n",
       "      <th>5</th>\n",
       "      <td>ts6</td>\n",
       "      <td>0.520726</td>\n",
       "      <td>0.221053</td>\n",
       "      <td>0.009266</td>\n",
       "      <td>0.017787</td>\n",
       "      <td>0.103353</td>\n",
       "      <td>0.500000</td>\n",
       "      <td>0.004192</td>\n",
       "      <td>0.294872</td>\n",
       "      <td>0.153059</td>\n",
       "      <td>0.009266</td>\n",
       "      <td>0.591440</td>\n",
       "    </tr>\n",
       "    <tr>\n",
       "      <th>6</th>\n",
       "      <td>ts7</td>\n",
       "      <td>0.418131</td>\n",
       "      <td>0.107143</td>\n",
       "      <td>0.009569</td>\n",
       "      <td>0.017570</td>\n",
       "      <td>0.028817</td>\n",
       "      <td>0.111111</td>\n",
       "      <td>0.008243</td>\n",
       "      <td>0.133333</td>\n",
       "      <td>0.047391</td>\n",
       "      <td>0.009569</td>\n",
       "      <td>0.558670</td>\n",
       "    </tr>\n",
       "    <tr>\n",
       "      <th>7</th>\n",
       "      <td>ts8</td>\n",
       "      <td>0.173526</td>\n",
       "      <td>0.000000</td>\n",
       "      <td>0.000000</td>\n",
       "      <td>0.000000</td>\n",
       "      <td>0.000000</td>\n",
       "      <td>0.000000</td>\n",
       "      <td>0.000000</td>\n",
       "      <td>0.000000</td>\n",
       "      <td>0.000000</td>\n",
       "      <td>0.000000</td>\n",
       "      <td>0.274281</td>\n",
       "    </tr>\n",
       "    <tr>\n",
       "      <th>8</th>\n",
       "      <td>ts9</td>\n",
       "      <td>0.719610</td>\n",
       "      <td>0.296482</td>\n",
       "      <td>0.030890</td>\n",
       "      <td>0.055951</td>\n",
       "      <td>0.131749</td>\n",
       "      <td>0.363636</td>\n",
       "      <td>0.073777</td>\n",
       "      <td>0.307493</td>\n",
       "      <td>0.184463</td>\n",
       "      <td>0.030890</td>\n",
       "      <td>0.835456</td>\n",
       "    </tr>\n",
       "    <tr>\n",
       "      <th>9</th>\n",
       "      <td>ts10</td>\n",
       "      <td>0.399424</td>\n",
       "      <td>0.245098</td>\n",
       "      <td>0.019826</td>\n",
       "      <td>0.036684</td>\n",
       "      <td>0.089655</td>\n",
       "      <td>0.400000</td>\n",
       "      <td>0.012068</td>\n",
       "      <td>0.068966</td>\n",
       "      <td>0.077961</td>\n",
       "      <td>0.019826</td>\n",
       "      <td>0.470180</td>\n",
       "    </tr>\n",
       "    <tr>\n",
       "      <th>10</th>\n",
       "      <td>ts11</td>\n",
       "      <td>0.561592</td>\n",
       "      <td>0.960000</td>\n",
       "      <td>0.044693</td>\n",
       "      <td>0.085409</td>\n",
       "      <td>0.202750</td>\n",
       "      <td>1.000000</td>\n",
       "      <td>0.003438</td>\n",
       "      <td>0.928571</td>\n",
       "      <td>0.332829</td>\n",
       "      <td>0.044693</td>\n",
       "      <td>0.587784</td>\n",
       "    </tr>\n",
       "    <tr>\n",
       "      <th>11</th>\n",
       "      <td>ts12</td>\n",
       "      <td>0.547871</td>\n",
       "      <td>0.400000</td>\n",
       "      <td>0.015121</td>\n",
       "      <td>0.029141</td>\n",
       "      <td>0.012492</td>\n",
       "      <td>0.054795</td>\n",
       "      <td>0.001917</td>\n",
       "      <td>0.415821</td>\n",
       "      <td>0.024256</td>\n",
       "      <td>0.015121</td>\n",
       "      <td>0.696257</td>\n",
       "    </tr>\n",
       "    <tr>\n",
       "      <th>12</th>\n",
       "      <td>ts13</td>\n",
       "      <td>0.645927</td>\n",
       "      <td>0.740977</td>\n",
       "      <td>0.015939</td>\n",
       "      <td>0.031207</td>\n",
       "      <td>0.088489</td>\n",
       "      <td>0.412121</td>\n",
       "      <td>0.007581</td>\n",
       "      <td>0.708661</td>\n",
       "      <td>0.157332</td>\n",
       "      <td>0.015939</td>\n",
       "      <td>0.658989</td>\n",
       "    </tr>\n",
       "    <tr>\n",
       "      <th>13</th>\n",
       "      <td>ts14</td>\n",
       "      <td>0.492849</td>\n",
       "      <td>0.000000</td>\n",
       "      <td>0.000000</td>\n",
       "      <td>0.000000</td>\n",
       "      <td>0.000000</td>\n",
       "      <td>0.000000</td>\n",
       "      <td>0.000000</td>\n",
       "      <td>0.000000</td>\n",
       "      <td>0.000000</td>\n",
       "      <td>0.000000</td>\n",
       "      <td>0.720657</td>\n",
       "    </tr>\n",
       "    <tr>\n",
       "      <th>14</th>\n",
       "      <td>ts15</td>\n",
       "      <td>0.599016</td>\n",
       "      <td>0.223214</td>\n",
       "      <td>0.022482</td>\n",
       "      <td>0.040850</td>\n",
       "      <td>0.213911</td>\n",
       "      <td>1.000000</td>\n",
       "      <td>0.017388</td>\n",
       "      <td>0.090909</td>\n",
       "      <td>0.127593</td>\n",
       "      <td>0.022482</td>\n",
       "      <td>0.614180</td>\n",
       "    </tr>\n",
       "  </tbody>\n",
       "</table>\n",
       "</div>"
      ],
      "text/plain": [
       "   Filename       AUC  Precision    Recall   F-score  Range-recall  \\\n",
       "0       ts1  0.539670   0.300000  0.011051  0.021316      0.207948   \n",
       "1       ts2  0.562772   0.287162  0.010164  0.019633      0.154629   \n",
       "2       ts3  0.944227   0.238095  0.165746  0.195440      0.244199   \n",
       "3       ts4  0.539069   0.000000  0.000000  0.000000      0.000000   \n",
       "4       ts5  0.521828   0.123016  0.025963  0.042877      0.104633   \n",
       "5       ts6  0.520726   0.221053  0.009266  0.017787      0.103353   \n",
       "6       ts7  0.418131   0.107143  0.009569  0.017570      0.028817   \n",
       "7       ts8  0.173526   0.000000  0.000000  0.000000      0.000000   \n",
       "8       ts9  0.719610   0.296482  0.030890  0.055951      0.131749   \n",
       "9      ts10  0.399424   0.245098  0.019826  0.036684      0.089655   \n",
       "10     ts11  0.561592   0.960000  0.044693  0.085409      0.202750   \n",
       "11     ts12  0.547871   0.400000  0.015121  0.029141      0.012492   \n",
       "12     ts13  0.645927   0.740977  0.015939  0.031207      0.088489   \n",
       "13     ts14  0.492849   0.000000  0.000000  0.000000      0.000000   \n",
       "14     ts15  0.599016   0.223214  0.022482  0.040850      0.213911   \n",
       "\n",
       "    ExistenceReward  OverlapReward  Range-precision  Range-Fscore  Precison@k  \\\n",
       "0          1.000000       0.009935         0.287356      0.241287    0.011051   \n",
       "1          0.750000       0.005787         0.292135      0.202221    0.010164   \n",
       "2          1.000000       0.055249         0.333333      0.281888    0.165746   \n",
       "3          0.000000       0.000000         0.000000      0.000000    0.000000   \n",
       "4          0.454545       0.017155         0.129825      0.115875    0.025963   \n",
       "5          0.500000       0.004192         0.294872      0.153059    0.009266   \n",
       "6          0.111111       0.008243         0.133333      0.047391    0.009569   \n",
       "7          0.000000       0.000000         0.000000      0.000000    0.000000   \n",
       "8          0.363636       0.073777         0.307493      0.184463    0.030890   \n",
       "9          0.400000       0.012068         0.068966      0.077961    0.019826   \n",
       "10         1.000000       0.003438         0.928571      0.332829    0.044693   \n",
       "11         0.054795       0.001917         0.415821      0.024256    0.015121   \n",
       "12         0.412121       0.007581         0.708661      0.157332    0.015939   \n",
       "13         0.000000       0.000000         0.000000      0.000000    0.000000   \n",
       "14         1.000000       0.017388         0.090909      0.127593    0.022482   \n",
       "\n",
       "    RangeAUC  \n",
       "0   0.605383  \n",
       "1   0.623820  \n",
       "2   0.858828  \n",
       "3   0.723467  \n",
       "4   0.719034  \n",
       "5   0.591440  \n",
       "6   0.558670  \n",
       "7   0.274281  \n",
       "8   0.835456  \n",
       "9   0.470180  \n",
       "10  0.587784  \n",
       "11  0.696257  \n",
       "12  0.658989  \n",
       "13  0.720657  \n",
       "14  0.614180  "
      ]
     },
     "execution_count": 17,
     "metadata": {},
     "output_type": "execute_result"
    }
   ],
   "source": [
    "df"
   ]
  },
  {
   "cell_type": "code",
   "execution_count": 20,
   "metadata": {},
   "outputs": [],
   "source": [
    "df.to_csv('Results/Naive_Streaming/IsolationForest/results.csv', index=False)"
   ]
  },
  {
   "cell_type": "markdown",
   "metadata": {},
   "source": [
    "### ***STUMP***"
   ]
  },
  {
   "cell_type": "code",
   "execution_count": null,
   "metadata": {},
   "outputs": [],
   "source": [
    "import stumpy\n",
    "modelName = 'STUMP'"
   ]
  },
  {
   "cell_type": "code",
   "execution_count": null,
   "metadata": {},
   "outputs": [],
   "source": [
    "results = []\n",
    "\n",
    "for filename in tqdm(preprocessed_dict.keys(), desc='Processing Time Series'):\n",
    "    ts = preprocessed_dict[filename]\n",
    "    full_ts = ts['data']\n",
    "    subseries = ts['X_data']\n",
    "    window_size = ts['slidingWindow']\n",
    "    slidingWindow = window_size\n",
    "\n",
    "    k = 1\n",
    "    score = []\n",
    "    for batch in tqdm(ts['batched_data'], desc='Processing Batch'):\n",
    "        score_ = stumpy.stump(T_A=batch, m=window_size, k=k, ignore_trivial=True, normalize=True)\n",
    "    \n",
    "        score.extend(score_.T[k-1])\n",
    "        \n",
    "    score = np.array(score)\n",
    "    score = MinMaxScaler(feature_range=(0,1)).fit_transform(score.reshape(-1,1)).ravel()\n",
    "    score = np.array([score[0]]*math.ceil((slidingWindow-1)/2) + list(score) + [score[-1]]*((slidingWindow-1)//2))\n",
    "    \n",
    "    L = printResult(ts['data'], ts['label'], score, ts['slidingWindow'], ts['name'], modelName)\n",
    "    results.append([filename] + L)"
   ]
  },
  {
   "cell_type": "code",
   "execution_count": null,
   "metadata": {},
   "outputs": [],
   "source": [
    "len(batch)"
   ]
  },
  {
   "cell_type": "code",
   "execution_count": null,
   "metadata": {},
   "outputs": [],
   "source": [
    "columns = ['Filename'] + ['AUC', 'Precision', 'Recall', 'F-score', 'Range-recall', 'ExistenceReward', 'OverlapReward', 'Range-precision', 'Range-Fscore', 'Precison@k', 'RangeAUC']\n",
    "df = pd.DataFrame(results, columns=columns)\n",
    "df"
   ]
  }
 ],
 "metadata": {
  "kernelspec": {
   "display_name": "Python 3 (ipykernel)",
   "language": "python",
   "name": "python3"
  },
  "language_info": {
   "codemirror_mode": {
    "name": "ipython",
    "version": 3
   },
   "file_extension": ".py",
   "mimetype": "text/x-python",
   "name": "python",
   "nbconvert_exporter": "python",
   "pygments_lexer": "ipython3",
   "version": "3.8.19"
  }
 },
 "nbformat": 4,
 "nbformat_minor": 4
}
